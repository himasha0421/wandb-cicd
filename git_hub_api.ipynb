{
 "cells": [
  {
   "cell_type": "code",
   "execution_count": 1,
   "metadata": {},
   "outputs": [
    {
     "data": {
      "text/plain": [
       "True"
      ]
     },
     "execution_count": 1,
     "metadata": {},
     "output_type": "execute_result"
    }
   ],
   "source": [
    "from dotenv import load_dotenv\n",
    "import os\n",
    "from ghapi.core import GhApi\n",
    "\n",
    "load_dotenv()"
   ]
  },
  {
   "cell_type": "code",
   "execution_count": 2,
   "metadata": {},
   "outputs": [],
   "source": [
    "# define the github api\n",
    "gh_api = GhApi(owner='himasha0421',repo='wandb-cicd')"
   ]
  },
  {
   "cell_type": "code",
   "execution_count": 7,
   "metadata": {},
   "outputs": [
    {
     "name": "stdout",
     "output_type": "stream",
     "text": [
      "add git api code 4 https://github.com/himasha0421/wandb-cicd/pull/4\n"
     ]
    }
   ],
   "source": [
    "# open pull requests\n",
    "for i_pr in gh_api.pulls.list() :\n",
    "    print(i_pr.title , i_pr.number , i_pr.html_url)"
   ]
  },
  {
   "cell_type": "code",
   "execution_count": 9,
   "metadata": {},
   "outputs": [
    {
     "data": {
      "text/markdown": [
       "```json\n",
       "{ 'author_association': 'OWNER',\n",
       "  'body': 'Hi this is a github api comment',\n",
       "  'created_at': '2023-04-28T18:55:14Z',\n",
       "  'html_url': 'https://github.com/himasha0421/wandb-cicd/pull/4#issuecomment-1527965142',\n",
       "  'id': 1527965142,\n",
       "  'issue_url': 'https://api.github.com/repos/himasha0421/wandb-cicd/issues/4',\n",
       "  'node_id': 'IC_kwDOJY1vU85bEuXW',\n",
       "  'performed_via_github_app': None,\n",
       "  'reactions': { '+1': 0,\n",
       "                 '-1': 0,\n",
       "                 'confused': 0,\n",
       "                 'eyes': 0,\n",
       "                 'heart': 0,\n",
       "                 'hooray': 0,\n",
       "                 'laugh': 0,\n",
       "                 'rocket': 0,\n",
       "                 'total_count': 0,\n",
       "                 'url': 'https://api.github.com/repos/himasha0421/wandb-cicd/issues/comments/1527965142/reactions'},\n",
       "  'updated_at': '2023-04-28T18:55:14Z',\n",
       "  'url': 'https://api.github.com/repos/himasha0421/wandb-cicd/issues/comments/1527965142',\n",
       "  'user': { 'avatar_url': 'https://avatars.githubusercontent.com/u/55790877?u=29232975672ac6481e8848107636e16626513aba&v=4',\n",
       "            'events_url': 'https://api.github.com/users/himasha0421/events{/privacy}',\n",
       "            'followers_url': 'https://api.github.com/users/himasha0421/followers',\n",
       "            'following_url': 'https://api.github.com/users/himasha0421/following{/other_user}',\n",
       "            'gists_url': 'https://api.github.com/users/himasha0421/gists{/gist_id}',\n",
       "            'gravatar_id': '',\n",
       "            'html_url': 'https://github.com/himasha0421',\n",
       "            'id': 55790877,\n",
       "            'login': 'himasha0421',\n",
       "            'node_id': 'MDQ6VXNlcjU1NzkwODc3',\n",
       "            'organizations_url': 'https://api.github.com/users/himasha0421/orgs',\n",
       "            'received_events_url': 'https://api.github.com/users/himasha0421/received_events',\n",
       "            'repos_url': 'https://api.github.com/users/himasha0421/repos',\n",
       "            'site_admin': False,\n",
       "            'starred_url': 'https://api.github.com/users/himasha0421/starred{/owner}{/repo}',\n",
       "            'subscriptions_url': 'https://api.github.com/users/himasha0421/subscriptions',\n",
       "            'type': 'User',\n",
       "            'url': 'https://api.github.com/users/himasha0421'}}\n",
       "```"
      ],
      "text/plain": [
       "{'url': 'https://api.github.com/repos/himasha0421/wandb-cicd/issues/comments/1527965142',\n",
       " 'html_url': 'https://github.com/himasha0421/wandb-cicd/pull/4#issuecomment-1527965142',\n",
       " 'issue_url': 'https://api.github.com/repos/himasha0421/wandb-cicd/issues/4',\n",
       " 'id': 1527965142,\n",
       " 'node_id': 'IC_kwDOJY1vU85bEuXW',\n",
       " 'user': {'login': 'himasha0421',\n",
       "  'id': 55790877,\n",
       "  'node_id': 'MDQ6VXNlcjU1NzkwODc3',\n",
       "  'avatar_url': 'https://avatars.githubusercontent.com/u/55790877?u=29232975672ac6481e8848107636e16626513aba&v=4',\n",
       "  'gravatar_id': '',\n",
       "  'url': 'https://api.github.com/users/himasha0421',\n",
       "  'html_url': 'https://github.com/himasha0421',\n",
       "  'followers_url': 'https://api.github.com/users/himasha0421/followers',\n",
       "  'following_url': 'https://api.github.com/users/himasha0421/following{/other_user}',\n",
       "  'gists_url': 'https://api.github.com/users/himasha0421/gists{/gist_id}',\n",
       "  'starred_url': 'https://api.github.com/users/himasha0421/starred{/owner}{/repo}',\n",
       "  'subscriptions_url': 'https://api.github.com/users/himasha0421/subscriptions',\n",
       "  'organizations_url': 'https://api.github.com/users/himasha0421/orgs',\n",
       "  'repos_url': 'https://api.github.com/users/himasha0421/repos',\n",
       "  'events_url': 'https://api.github.com/users/himasha0421/events{/privacy}',\n",
       "  'received_events_url': 'https://api.github.com/users/himasha0421/received_events',\n",
       "  'type': 'User',\n",
       "  'site_admin': False},\n",
       " 'created_at': '2023-04-28T18:55:14Z',\n",
       " 'updated_at': '2023-04-28T18:55:14Z',\n",
       " 'author_association': 'OWNER',\n",
       " 'body': 'Hi this is a github api comment',\n",
       " 'reactions': {'url': 'https://api.github.com/repos/himasha0421/wandb-cicd/issues/comments/1527965142/reactions',\n",
       "  'total_count': 0,\n",
       "  '+1': 0,\n",
       "  '-1': 0,\n",
       "  'laugh': 0,\n",
       "  'hooray': 0,\n",
       "  'confused': 0,\n",
       "  'heart': 0,\n",
       "  'rocket': 0,\n",
       "  'eyes': 0},\n",
       " 'performed_via_github_app': None}"
      ]
     },
     "execution_count": 9,
     "metadata": {},
     "output_type": "execute_result"
    }
   ],
   "source": [
    "# add a pull request comment using issue comment\n",
    "gh_api.issues.create_comment(4,\"Hi this is a github api comment\")"
   ]
  },
  {
   "cell_type": "code",
   "execution_count": 10,
   "metadata": {},
   "outputs": [
    {
     "data": {
      "text/plain": [
       "(#2) [{'id': 5444575769, 'node_id': 'LA_kwDOJY1vU88AAAABRIWiGQ', 'url': 'https://api.github.com/repos/himasha0421/wandb-cicd/labels/wandb%20demo', 'name': 'wandb demo', 'color': 'ededed', 'default': False, 'description': None},{'id': 5444575772, 'node_id': 'LA_kwDOJY1vU88AAAABRIWiHA', 'url': 'https://api.github.com/repos/himasha0421/wandb-cicd/labels/dev', 'name': 'dev', 'color': 'ededed', 'default': False, 'description': None}]"
      ]
     },
     "execution_count": 10,
     "metadata": {},
     "output_type": "execute_result"
    }
   ],
   "source": [
    "# label a pull request\n",
    "gh_api.issues.add_labels(4, labels = ['wandb demo','dev'])"
   ]
  },
  {
   "cell_type": "code",
   "execution_count": 11,
   "metadata": {},
   "outputs": [],
   "source": [
    "# define a specific label\n",
    "label = gh_api.issues.create_label(name='gitops', color='f29513')"
   ]
  },
  {
   "cell_type": "code",
   "execution_count": 12,
   "metadata": {},
   "outputs": [
    {
     "data": {
      "text/plain": [
       "(#3) [{'id': 5444575769, 'node_id': 'LA_kwDOJY1vU88AAAABRIWiGQ', 'url': 'https://api.github.com/repos/himasha0421/wandb-cicd/labels/wandb%20demo', 'name': 'wandb demo', 'color': 'ededed', 'default': False, 'description': None},{'id': 5444575772, 'node_id': 'LA_kwDOJY1vU88AAAABRIWiHA', 'url': 'https://api.github.com/repos/himasha0421/wandb-cicd/labels/dev', 'name': 'dev', 'color': 'ededed', 'default': False, 'description': None},{'id': 5444584631, 'node_id': 'LA_kwDOJY1vU88AAAABRIXEtw', 'url': 'https://api.github.com/repos/himasha0421/wandb-cicd/labels/gitops', 'name': 'gitops', 'color': 'f29513', 'default': False, 'description': None}]"
      ]
     },
     "execution_count": 12,
     "metadata": {},
     "output_type": "execute_result"
    }
   ],
   "source": [
    "# apply custom label \n",
    "gh_api.issues.add_labels(4, labels=['gitops'])"
   ]
  },
  {
   "cell_type": "code",
   "execution_count": null,
   "metadata": {},
   "outputs": [],
   "source": []
  }
 ],
 "metadata": {
  "kernelspec": {
   "display_name": "base",
   "language": "python",
   "name": "python3"
  },
  "language_info": {
   "codemirror_mode": {
    "name": "ipython",
    "version": 3
   },
   "file_extension": ".py",
   "mimetype": "text/x-python",
   "name": "python",
   "nbconvert_exporter": "python",
   "pygments_lexer": "ipython3",
   "version": "3.8.8"
  },
  "orig_nbformat": 4
 },
 "nbformat": 4,
 "nbformat_minor": 2
}
