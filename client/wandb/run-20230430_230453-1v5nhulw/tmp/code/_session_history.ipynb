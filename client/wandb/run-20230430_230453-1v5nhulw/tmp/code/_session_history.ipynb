{
 "cells": [
  {
   "cell_type": "code",
   "execution_count": 1,
   "id": "5ca7165a",
   "metadata": {},
   "outputs": [
    {
     "name": "stdout",
     "output_type": "stream",
     "text": [
      "True"
     ]
    }
   ],
   "source": [
    "from dotenv import load_dotenv\n",
    "import os\n",
    "import wandb\n",
    "from urllib.parse import urlencode\n",
    "\n",
    "# load the github/ wandb api keys\n",
    "load_dotenv()"
   ]
  },
  {
   "cell_type": "code",
   "execution_count": 2,
   "id": "6d28c361",
   "metadata": {},
   "outputs": [],
   "source": [
    "# use the registered model artifacts\n",
    "model = wandb.use_artifact('himasha/mnist-experiment/mnist-regsirty:v0')"
   ]
  },
  {
   "cell_type": "code",
   "execution_count": 3,
   "id": "b4936a71",
   "metadata": {},
   "outputs": [],
   "source": [
    "# use the registered model artifacts\n",
    "# Always initialize a W&B run to start tracking\n",
    "wandb.init()\n",
    "\n",
    "model = wandb.use_artifact('himasha/mnist-experiment/mnist-regsirty:v0')"
   ]
  },
  {
   "cell_type": "code",
   "execution_count": 4,
   "id": "0563e0ca",
   "metadata": {},
   "outputs": [],
   "source": [
    "# use the registered model artifacts\n",
    "# Always initialize a W&B run to start tracking\n",
    "wandb.init()\n",
    "\n",
    "model = wandb.use_artifact('himasha/mnist-experiment/mnist-registry:v0')"
   ]
  },
  {
   "cell_type": "code",
   "execution_count": 5,
   "id": "358748c7",
   "metadata": {},
   "outputs": [
    {
     "data": {
      "text/html": [
       "Finishing last run (ID:bf9pztzl) before initializing another..."
      ],
      "text/plain": [
       "<IPython.core.display.HTML object>"
      ]
     },
     "metadata": {},
     "output_type": "display_data"
    },
    {
     "data": {
      "text/html": [
       "Waiting for W&B process to finish... <strong style=\"color:green\">(success).</strong>"
      ],
      "text/plain": [
       "<IPython.core.display.HTML object>"
      ]
     },
     "metadata": {},
     "output_type": "display_data"
    },
    {
     "data": {
      "application/vnd.jupyter.widget-view+json": {
       "model_id": "cc902057c1be4027a3e13284588ef565",
       "version_major": 2,
       "version_minor": 0
      },
      "text/plain": [
       "VBox(children=(Label(value='0.004 MB of 0.028 MB uploaded (0.000 MB deduped)\\r'), FloatProgress(value=0.138417…"
      ]
     },
     "metadata": {},
     "output_type": "display_data"
    },
    {
     "data": {
      "text/html": [
       " View run <strong style=\"color:#cdcd00\">ancient-cloud-3</strong> at: <a href=\"https://wandb.ai/himasha/wandb-cicd-client/runs/bf9pztzl\" target=\"_blank\">https://wandb.ai/himasha/wandb-cicd-client/runs/bf9pztzl</a><br/>Synced 6 W&B file(s), 0 media file(s), 0 artifact file(s) and 0 other file(s)"
      ],
      "text/plain": [
       "<IPython.core.display.HTML object>"
      ]
     },
     "metadata": {},
     "output_type": "display_data"
    },
    {
     "data": {
      "text/html": [
       "Find logs at: <code>./wandb/run-20230430_230410-bf9pztzl/logs</code>"
      ],
      "text/plain": [
       "<IPython.core.display.HTML object>"
      ]
     },
     "metadata": {},
     "output_type": "display_data"
    },
    {
     "data": {
      "text/html": [
       "Successfully finished last run (ID:bf9pztzl). Initializing new run:<br/>"
      ],
      "text/plain": [
       "<IPython.core.display.HTML object>"
      ]
     },
     "metadata": {},
     "output_type": "display_data"
    },
    {
     "data": {
      "application/vnd.jupyter.widget-view+json": {
       "model_id": "226c49cc564a46158d3939776d7bc81b",
       "version_major": 2,
       "version_minor": 0
      },
      "text/plain": [
       "VBox(children=(Label(value='Waiting for wandb.init()...\\r'), FloatProgress(value=0.016668766883352268, max=1.0…"
      ]
     },
     "metadata": {},
     "output_type": "display_data"
    },
    {
     "data": {
      "text/html": [
       "wandb version 0.15.0 is available!  To upgrade, please run:\n",
       " $ pip install wandb --upgrade"
      ],
      "text/plain": [
       "<IPython.core.display.HTML object>"
      ]
     },
     "metadata": {},
     "output_type": "display_data"
    },
    {
     "data": {
      "text/html": [
       "Tracking run with wandb version 0.13.9"
      ],
      "text/plain": [
       "<IPython.core.display.HTML object>"
      ]
     },
     "metadata": {},
     "output_type": "display_data"
    },
    {
     "data": {
      "text/html": [
       "Run data is saved locally in <code>/home/sharaaf/ADL/MLOps-Piepline/wandb-cicd/client/wandb/run-20230430_230453-1v5nhulw</code>"
      ],
      "text/plain": [
       "<IPython.core.display.HTML object>"
      ]
     },
     "metadata": {},
     "output_type": "display_data"
    },
    {
     "data": {
      "text/html": [
       "Syncing run <strong><a href=\"https://wandb.ai/himasha/wandb-cicd-client/runs/1v5nhulw\" target=\"_blank\">icy-voice-4</a></strong> to <a href=\"https://wandb.ai/himasha/wandb-cicd-client\" target=\"_blank\">Weights & Biases</a> (<a href=\"https://wandb.me/run\" target=\"_blank\">docs</a>)<br/>"
      ],
      "text/plain": [
       "<IPython.core.display.HTML object>"
      ]
     },
     "metadata": {},
     "output_type": "display_data"
    },
    {
     "data": {
      "text/html": [
       " View project at <a href=\"https://wandb.ai/himasha/wandb-cicd-client\" target=\"_blank\">https://wandb.ai/himasha/wandb-cicd-client</a>"
      ],
      "text/plain": [
       "<IPython.core.display.HTML object>"
      ]
     },
     "metadata": {},
     "output_type": "display_data"
    },
    {
     "data": {
      "text/html": [
       " View run at <a href=\"https://wandb.ai/himasha/wandb-cicd-client/runs/1v5nhulw\" target=\"_blank\">https://wandb.ai/himasha/wandb-cicd-client/runs/1v5nhulw</a>"
      ],
      "text/plain": [
       "<IPython.core.display.HTML object>"
      ]
     },
     "metadata": {},
     "output_type": "display_data"
    }
   ],
   "source": [
    "# use the registered model artifacts\n",
    "# Always initialize a W&B run to start tracking\n",
    "wandb.init()\n",
    "\n",
    "model = wandb.use_artifact('himasha/mnist-experiment/mnist-registry')"
   ]
  },
  {
   "cell_type": "code",
   "execution_count": 6,
   "id": "f1a1ea22",
   "metadata": {},
   "outputs": [],
   "source": [
    "# use the registered model artifacts\n",
    "# Always initialize a W&B run to start tracking\n",
    "wandb.init()\n",
    "\n",
    "model = wandb.use_artifact('himasha/model-registry/mnist-registry:v0') "
   ]
  }
 ],
 "metadata": {
  "kernelspec": {
   "display_name": "Python 3",
   "language": "python",
   "name": "python3"
  },
  "language_info": {
   "codemirror_mode": {
    "name": "ipython",
    "version": 3
   },
   "file_extension": ".py",
   "mimetype": "text/x-python",
   "name": "python",
   "nbconvert_exporter": "python",
   "pygments_lexer": "ipython3",
   "version": "3.8.13"
  }
 },
 "nbformat": 4,
 "nbformat_minor": 5
}
