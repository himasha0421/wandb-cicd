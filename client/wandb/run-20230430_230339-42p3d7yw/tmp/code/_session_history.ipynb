{
 "cells": [
  {
   "cell_type": "code",
   "execution_count": 1,
   "id": "9cfd71c1",
   "metadata": {},
   "outputs": [
    {
     "name": "stdout",
     "output_type": "stream",
     "text": [
      "True"
     ]
    }
   ],
   "source": [
    "from dotenv import load_dotenv\n",
    "import os\n",
    "import wandb\n",
    "from urllib.parse import urlencode\n",
    "\n",
    "# load the github/ wandb api keys\n",
    "load_dotenv()"
   ]
  },
  {
   "cell_type": "code",
   "execution_count": 2,
   "id": "1b3590c2",
   "metadata": {},
   "outputs": [],
   "source": [
    "# use the registered model artifacts\n",
    "model = wandb.use_artifact('himasha/mnist-experiment/mnist-regsirty:v0')"
   ]
  },
  {
   "cell_type": "code",
   "execution_count": 3,
   "id": "f7e85725",
   "metadata": {},
   "outputs": [
    {
     "data": {
      "application/vnd.jupyter.widget-view+json": {
       "model_id": "02408e0bace2451986033c8478aeaff3",
       "version_major": 2,
       "version_minor": 0
      },
      "text/plain": [
       "VBox(children=(Label(value='Waiting for wandb.init()...\\r'), FloatProgress(value=0.01666939086668814, max=1.0)…"
      ]
     },
     "metadata": {},
     "output_type": "display_data"
    },
    {
     "data": {
      "text/html": [
       "wandb version 0.15.0 is available!  To upgrade, please run:\n",
       " $ pip install wandb --upgrade"
      ],
      "text/plain": [
       "<IPython.core.display.HTML object>"
      ]
     },
     "metadata": {},
     "output_type": "display_data"
    },
    {
     "data": {
      "text/html": [
       "Tracking run with wandb version 0.13.9"
      ],
      "text/plain": [
       "<IPython.core.display.HTML object>"
      ]
     },
     "metadata": {},
     "output_type": "display_data"
    },
    {
     "data": {
      "text/html": [
       "Run data is saved locally in <code>/home/sharaaf/ADL/MLOps-Piepline/wandb-cicd/client/wandb/run-20230430_230339-42p3d7yw</code>"
      ],
      "text/plain": [
       "<IPython.core.display.HTML object>"
      ]
     },
     "metadata": {},
     "output_type": "display_data"
    },
    {
     "data": {
      "text/html": [
       "Syncing run <strong><a href=\"https://wandb.ai/himasha/wandb-cicd-client/runs/42p3d7yw\" target=\"_blank\">light-smoke-2</a></strong> to <a href=\"https://wandb.ai/himasha/wandb-cicd-client\" target=\"_blank\">Weights & Biases</a> (<a href=\"https://wandb.me/run\" target=\"_blank\">docs</a>)<br/>"
      ],
      "text/plain": [
       "<IPython.core.display.HTML object>"
      ]
     },
     "metadata": {},
     "output_type": "display_data"
    },
    {
     "data": {
      "text/html": [
       " View project at <a href=\"https://wandb.ai/himasha/wandb-cicd-client\" target=\"_blank\">https://wandb.ai/himasha/wandb-cicd-client</a>"
      ],
      "text/plain": [
       "<IPython.core.display.HTML object>"
      ]
     },
     "metadata": {},
     "output_type": "display_data"
    },
    {
     "data": {
      "text/html": [
       " View run at <a href=\"https://wandb.ai/himasha/wandb-cicd-client/runs/42p3d7yw\" target=\"_blank\">https://wandb.ai/himasha/wandb-cicd-client/runs/42p3d7yw</a>"
      ],
      "text/plain": [
       "<IPython.core.display.HTML object>"
      ]
     },
     "metadata": {},
     "output_type": "display_data"
    }
   ],
   "source": [
    "# use the registered model artifacts\n",
    "# Always initialize a W&B run to start tracking\n",
    "wandb.init()\n",
    "\n",
    "model = wandb.use_artifact('himasha/mnist-experiment/mnist-regsirty:v0')"
   ]
  },
  {
   "cell_type": "code",
   "execution_count": 4,
   "id": "42ac23a6",
   "metadata": {},
   "outputs": [],
   "source": [
    "# use the registered model artifacts\n",
    "# Always initialize a W&B run to start tracking\n",
    "wandb.init()\n",
    "\n",
    "model = wandb.use_artifact('himasha/mnist-experiment/mnist-registry:v0')"
   ]
  }
 ],
 "metadata": {
  "kernelspec": {
   "display_name": "Python 3",
   "language": "python",
   "name": "python3"
  },
  "language_info": {
   "codemirror_mode": {
    "name": "ipython",
    "version": 3
   },
   "file_extension": ".py",
   "mimetype": "text/x-python",
   "name": "python",
   "nbconvert_exporter": "python",
   "pygments_lexer": "ipython3",
   "version": "3.8.13"
  }
 },
 "nbformat": 4,
 "nbformat_minor": 5
}
