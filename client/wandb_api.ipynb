{
 "cells": [
  {
   "cell_type": "code",
   "execution_count": 1,
   "metadata": {},
   "outputs": [
    {
     "data": {
      "text/plain": [
       "True"
      ]
     },
     "execution_count": 1,
     "metadata": {},
     "output_type": "execute_result"
    }
   ],
   "source": [
    "from dotenv import load_dotenv\n",
    "import os\n",
    "import wandb\n",
    "\n",
    "# load the github/ wandb api keys\n",
    "load_dotenv()"
   ]
  },
  {
   "attachments": {},
   "cell_type": "markdown",
   "metadata": {},
   "source": [
    "## Getting metrics tied to the current production model\n",
    "We can get the production model from the registry, then get the metrics via lineage from the associated run."
   ]
  },
  {
   "cell_type": "code",
   "execution_count": 2,
   "metadata": {},
   "outputs": [
    {
     "name": "stderr",
     "output_type": "stream",
     "text": [
      "Failed to detect the name of this notebook, you can set it manually with the WANDB_NOTEBOOK_NAME environment variable to enable code saving.\n",
      "\u001b[34m\u001b[1mwandb\u001b[0m: Currently logged in as: \u001b[33mhimasha\u001b[0m. Use \u001b[1m`wandb login --relogin`\u001b[0m to force relogin\n"
     ]
    },
    {
     "data": {
      "application/vnd.jupyter.widget-view+json": {
       "model_id": "29bc4b13f0f74e37bb1e23ece42cb834",
       "version_major": 2,
       "version_minor": 0
      },
      "text/plain": [
       "VBox(children=(Label(value='Waiting for wandb.init()...\\r'), FloatProgress(value=0.01666867793331524, max=1.0)…"
      ]
     },
     "metadata": {},
     "output_type": "display_data"
    },
    {
     "data": {
      "text/html": [
       "wandb version 0.15.0 is available!  To upgrade, please run:\n",
       " $ pip install wandb --upgrade"
      ],
      "text/plain": [
       "<IPython.core.display.HTML object>"
      ]
     },
     "metadata": {},
     "output_type": "display_data"
    },
    {
     "data": {
      "text/html": [
       "Tracking run with wandb version 0.13.9"
      ],
      "text/plain": [
       "<IPython.core.display.HTML object>"
      ]
     },
     "metadata": {},
     "output_type": "display_data"
    },
    {
     "data": {
      "text/html": [
       "Run data is saved locally in <code>/home/sharaaf/ADL/MLOps-Piepline/wandb-cicd/client/wandb/run-20230429_131846-94jwwzjw</code>"
      ],
      "text/plain": [
       "<IPython.core.display.HTML object>"
      ]
     },
     "metadata": {},
     "output_type": "display_data"
    },
    {
     "data": {
      "text/html": [
       "Syncing run <strong><a href=\"https://wandb.ai/himasha/wandb-cicd-client/runs/94jwwzjw\" target=\"_blank\">amber-tree-1</a></strong> to <a href=\"https://wandb.ai/himasha/wandb-cicd-client\" target=\"_blank\">Weights & Biases</a> (<a href=\"https://wandb.me/run\" target=\"_blank\">docs</a>)<br/>"
      ],
      "text/plain": [
       "<IPython.core.display.HTML object>"
      ]
     },
     "metadata": {},
     "output_type": "display_data"
    },
    {
     "data": {
      "text/html": [
       " View project at <a href=\"https://wandb.ai/himasha/wandb-cicd-client\" target=\"_blank\">https://wandb.ai/himasha/wandb-cicd-client</a>"
      ],
      "text/plain": [
       "<IPython.core.display.HTML object>"
      ]
     },
     "metadata": {},
     "output_type": "display_data"
    },
    {
     "data": {
      "text/html": [
       " View run at <a href=\"https://wandb.ai/himasha/wandb-cicd-client/runs/94jwwzjw\" target=\"_blank\">https://wandb.ai/himasha/wandb-cicd-client/runs/94jwwzjw</a>"
      ],
      "text/plain": [
       "<IPython.core.display.HTML object>"
      ]
     },
     "metadata": {},
     "output_type": "display_data"
    },
    {
     "ename": "CommError",
     "evalue": "Project himasha/model-registry does not contain artifact: \"mnist-registry:production\"",
     "output_type": "error",
     "traceback": [
      "\u001b[0;31m---------------------------------------------------------------------------\u001b[0m",
      "\u001b[0;31mValueError\u001b[0m                                Traceback (most recent call last)",
      "File \u001b[0;32m~/anaconda3/envs/fr_tenant/lib/python3.8/site-packages/wandb/apis/normalize.py:26\u001b[0m, in \u001b[0;36mnormalize_exceptions.<locals>.wrapper\u001b[0;34m(*args, **kwargs)\u001b[0m\n\u001b[1;32m     25\u001b[0m \u001b[39mtry\u001b[39;00m:\n\u001b[0;32m---> 26\u001b[0m     \u001b[39mreturn\u001b[39;00m func(\u001b[39m*\u001b[39;49margs, \u001b[39m*\u001b[39;49m\u001b[39m*\u001b[39;49mkwargs)\n\u001b[1;32m     27\u001b[0m \u001b[39mexcept\u001b[39;00m requests\u001b[39m.\u001b[39mHTTPError \u001b[39mas\u001b[39;00m err:\n",
      "File \u001b[0;32m~/anaconda3/envs/fr_tenant/lib/python3.8/site-packages/wandb/apis/public.py:949\u001b[0m, in \u001b[0;36mApi.artifact\u001b[0;34m(self, name, type)\u001b[0m\n\u001b[1;32m    948\u001b[0m entity, project, artifact_name \u001b[39m=\u001b[39m \u001b[39mself\u001b[39m\u001b[39m.\u001b[39m_parse_artifact_path(name)\n\u001b[0;32m--> 949\u001b[0m artifact \u001b[39m=\u001b[39m Artifact(\u001b[39mself\u001b[39;49m\u001b[39m.\u001b[39;49mclient, entity, project, artifact_name)\n\u001b[1;32m    950\u001b[0m \u001b[39mif\u001b[39;00m \u001b[39mtype\u001b[39m \u001b[39mis\u001b[39;00m \u001b[39mnot\u001b[39;00m \u001b[39mNone\u001b[39;00m \u001b[39mand\u001b[39;00m artifact\u001b[39m.\u001b[39mtype \u001b[39m!=\u001b[39m \u001b[39mtype\u001b[39m:\n",
      "File \u001b[0;32m~/anaconda3/envs/fr_tenant/lib/python3.8/site-packages/wandb/apis/public.py:4343\u001b[0m, in \u001b[0;36mArtifact.__init__\u001b[0;34m(self, client, entity, project, name, attrs)\u001b[0m\n\u001b[1;32m   4342\u001b[0m \u001b[39mif\u001b[39;00m \u001b[39mself\u001b[39m\u001b[39m.\u001b[39m_attrs \u001b[39mis\u001b[39;00m \u001b[39mNone\u001b[39;00m:\n\u001b[0;32m-> 4343\u001b[0m     \u001b[39mself\u001b[39;49m\u001b[39m.\u001b[39;49m_load()\n\u001b[1;32m   4344\u001b[0m \u001b[39mself\u001b[39m\u001b[39m.\u001b[39m_metadata \u001b[39m=\u001b[39m json\u001b[39m.\u001b[39mloads(\u001b[39mself\u001b[39m\u001b[39m.\u001b[39m_attrs\u001b[39m.\u001b[39mget(\u001b[39m\"\u001b[39m\u001b[39mmetadata\u001b[39m\u001b[39m\"\u001b[39m) \u001b[39mor\u001b[39;00m \u001b[39m\"\u001b[39m\u001b[39m{}\u001b[39;00m\u001b[39m\"\u001b[39m)\n",
      "File \u001b[0;32m~/anaconda3/envs/fr_tenant/lib/python3.8/site-packages/wandb/apis/public.py:5072\u001b[0m, in \u001b[0;36mArtifact._load\u001b[0;34m(self)\u001b[0m\n\u001b[1;32m   5067\u001b[0m \u001b[39mif\u001b[39;00m (\n\u001b[1;32m   5068\u001b[0m     response \u001b[39mis\u001b[39;00m \u001b[39mNone\u001b[39;00m\n\u001b[1;32m   5069\u001b[0m     \u001b[39mor\u001b[39;00m response\u001b[39m.\u001b[39mget(\u001b[39m\"\u001b[39m\u001b[39mproject\u001b[39m\u001b[39m\"\u001b[39m) \u001b[39mis\u001b[39;00m \u001b[39mNone\u001b[39;00m\n\u001b[1;32m   5070\u001b[0m     \u001b[39mor\u001b[39;00m response[\u001b[39m\"\u001b[39m\u001b[39mproject\u001b[39m\u001b[39m\"\u001b[39m]\u001b[39m.\u001b[39mget(\u001b[39m\"\u001b[39m\u001b[39martifact\u001b[39m\u001b[39m\"\u001b[39m) \u001b[39mis\u001b[39;00m \u001b[39mNone\u001b[39;00m\n\u001b[1;32m   5071\u001b[0m ):\n\u001b[0;32m-> 5072\u001b[0m     \u001b[39mraise\u001b[39;00m \u001b[39mValueError\u001b[39;00m(\n\u001b[1;32m   5073\u001b[0m         \u001b[39m'\u001b[39m\u001b[39mProject \u001b[39m\u001b[39m%s\u001b[39;00m\u001b[39m/\u001b[39m\u001b[39m%s\u001b[39;00m\u001b[39m does not contain artifact: \u001b[39m\u001b[39m\"\u001b[39m\u001b[39m%s\u001b[39;00m\u001b[39m\"\u001b[39m\u001b[39m'\u001b[39m\n\u001b[1;32m   5074\u001b[0m         \u001b[39m%\u001b[39m (\u001b[39mself\u001b[39m\u001b[39m.\u001b[39mentity, \u001b[39mself\u001b[39m\u001b[39m.\u001b[39mproject, \u001b[39mself\u001b[39m\u001b[39m.\u001b[39m_artifact_name)\n\u001b[1;32m   5075\u001b[0m     )\n\u001b[1;32m   5076\u001b[0m \u001b[39mself\u001b[39m\u001b[39m.\u001b[39m_attrs \u001b[39m=\u001b[39m response[\u001b[39m\"\u001b[39m\u001b[39mproject\u001b[39m\u001b[39m\"\u001b[39m][\u001b[39m\"\u001b[39m\u001b[39martifact\u001b[39m\u001b[39m\"\u001b[39m]\n",
      "\u001b[0;31mValueError\u001b[0m: Project himasha/model-registry does not contain artifact: \"mnist-registry:production\"",
      "\nDuring handling of the above exception, another exception occurred:\n",
      "\u001b[0;31mCommError\u001b[0m                                 Traceback (most recent call last)",
      "\u001b[1;32m/home/sharaaf/ADL/MLOps-Piepline/wandb-cicd/client/wandb_api.ipynb Cell 3\u001b[0m in \u001b[0;36m<cell line: 8>\u001b[0;34m()\u001b[0m\n\u001b[1;32m      <a href='vscode-notebook-cell:/home/sharaaf/ADL/MLOps-Piepline/wandb-cicd/client/wandb_api.ipynb#W1sZmlsZQ%3D%3D?line=4'>5</a>\u001b[0m \u001b[39m# setup this after completing full wandb experiment\u001b[39;00m\n\u001b[1;32m      <a href='vscode-notebook-cell:/home/sharaaf/ADL/MLOps-Piepline/wandb-cicd/client/wandb_api.ipynb#W1sZmlsZQ%3D%3D?line=5'>6</a>\u001b[0m version \u001b[39m=\u001b[39m \u001b[39m'\u001b[39m\u001b[39mproduction\u001b[39m\u001b[39m'\u001b[39m\n\u001b[0;32m----> <a href='vscode-notebook-cell:/home/sharaaf/ADL/MLOps-Piepline/wandb-cicd/client/wandb_api.ipynb#W1sZmlsZQ%3D%3D?line=7'>8</a>\u001b[0m artifact \u001b[39m=\u001b[39m run\u001b[39m.\u001b[39;49muse_artifact(\u001b[39mf\u001b[39;49m\u001b[39m'\u001b[39;49m\u001b[39m{\u001b[39;49;00mpath\u001b[39m}\u001b[39;49;00m\u001b[39m{\u001b[39;49;00mmodel_name\u001b[39m}\u001b[39;49;00m\u001b[39m:\u001b[39;49m\u001b[39m{\u001b[39;49;00mversion\u001b[39m}\u001b[39;49;00m\u001b[39m'\u001b[39;49m, \n\u001b[1;32m      <a href='vscode-notebook-cell:/home/sharaaf/ADL/MLOps-Piepline/wandb-cicd/client/wandb_api.ipynb#W1sZmlsZQ%3D%3D?line=8'>9</a>\u001b[0m                             \u001b[39mtype\u001b[39;49m\u001b[39m=\u001b[39;49m\u001b[39m'\u001b[39;49m\u001b[39mmodel\u001b[39;49m\u001b[39m'\u001b[39;49m)\n",
      "File \u001b[0;32m~/anaconda3/envs/fr_tenant/lib/python3.8/site-packages/wandb/sdk/wandb_run.py:333\u001b[0m, in \u001b[0;36m_run_decorator._attach.<locals>.wrapper\u001b[0;34m(self, *args, **kwargs)\u001b[0m\n\u001b[1;32m    331\u001b[0m         \u001b[39mraise\u001b[39;00m e\n\u001b[1;32m    332\u001b[0m     \u001b[39mcls\u001b[39m\u001b[39m.\u001b[39m_is_attaching \u001b[39m=\u001b[39m \u001b[39m\"\u001b[39m\u001b[39m\"\u001b[39m\n\u001b[0;32m--> 333\u001b[0m \u001b[39mreturn\u001b[39;00m func(\u001b[39mself\u001b[39;49m, \u001b[39m*\u001b[39;49margs, \u001b[39m*\u001b[39;49m\u001b[39m*\u001b[39;49mkwargs)\n",
      "File \u001b[0;32m~/anaconda3/envs/fr_tenant/lib/python3.8/site-packages/wandb/sdk/wandb_run.py:2617\u001b[0m, in \u001b[0;36mRun.use_artifact\u001b[0;34m(self, artifact_or_name, type, aliases, use_as)\u001b[0m\n\u001b[1;32m   2615\u001b[0m     name \u001b[39m=\u001b[39m artifact_or_name\n\u001b[1;32m   2616\u001b[0m public_api \u001b[39m=\u001b[39m \u001b[39mself\u001b[39m\u001b[39m.\u001b[39m_public_api()\n\u001b[0;32m-> 2617\u001b[0m artifact \u001b[39m=\u001b[39m public_api\u001b[39m.\u001b[39;49martifact(\u001b[39mtype\u001b[39;49m\u001b[39m=\u001b[39;49m\u001b[39mtype\u001b[39;49m, name\u001b[39m=\u001b[39;49mname)\n\u001b[1;32m   2618\u001b[0m \u001b[39mif\u001b[39;00m \u001b[39mtype\u001b[39m \u001b[39mis\u001b[39;00m \u001b[39mnot\u001b[39;00m \u001b[39mNone\u001b[39;00m \u001b[39mand\u001b[39;00m \u001b[39mtype\u001b[39m \u001b[39m!=\u001b[39m artifact\u001b[39m.\u001b[39mtype:\n\u001b[1;32m   2619\u001b[0m     \u001b[39mraise\u001b[39;00m \u001b[39mValueError\u001b[39;00m(\n\u001b[1;32m   2620\u001b[0m         \u001b[39m\"\u001b[39m\u001b[39mSupplied type \u001b[39m\u001b[39m{}\u001b[39;00m\u001b[39m does not match type \u001b[39m\u001b[39m{}\u001b[39;00m\u001b[39m of artifact \u001b[39m\u001b[39m{}\u001b[39;00m\u001b[39m\"\u001b[39m\u001b[39m.\u001b[39mformat(\n\u001b[1;32m   2621\u001b[0m             \u001b[39mtype\u001b[39m, artifact\u001b[39m.\u001b[39mtype, artifact\u001b[39m.\u001b[39mname\n\u001b[1;32m   2622\u001b[0m         )\n\u001b[1;32m   2623\u001b[0m     )\n",
      "File \u001b[0;32m~/anaconda3/envs/fr_tenant/lib/python3.8/site-packages/wandb/apis/normalize.py:64\u001b[0m, in \u001b[0;36mnormalize_exceptions.<locals>.wrapper\u001b[0;34m(*args, **kwargs)\u001b[0m\n\u001b[1;32m     62\u001b[0m     \u001b[39mraise\u001b[39;00m\n\u001b[1;32m     63\u001b[0m \u001b[39melse\u001b[39;00m:\n\u001b[0;32m---> 64\u001b[0m     \u001b[39mraise\u001b[39;00m CommError(message, err)\u001b[39m.\u001b[39mwith_traceback(sys\u001b[39m.\u001b[39mexc_info()[\u001b[39m2\u001b[39m])\n",
      "File \u001b[0;32m~/anaconda3/envs/fr_tenant/lib/python3.8/site-packages/wandb/apis/normalize.py:26\u001b[0m, in \u001b[0;36mnormalize_exceptions.<locals>.wrapper\u001b[0;34m(*args, **kwargs)\u001b[0m\n\u001b[1;32m     24\u001b[0m message \u001b[39m=\u001b[39m \u001b[39m\"\u001b[39m\u001b[39mWhoa, you found a bug.\u001b[39m\u001b[39m\"\u001b[39m\n\u001b[1;32m     25\u001b[0m \u001b[39mtry\u001b[39;00m:\n\u001b[0;32m---> 26\u001b[0m     \u001b[39mreturn\u001b[39;00m func(\u001b[39m*\u001b[39;49margs, \u001b[39m*\u001b[39;49m\u001b[39m*\u001b[39;49mkwargs)\n\u001b[1;32m     27\u001b[0m \u001b[39mexcept\u001b[39;00m requests\u001b[39m.\u001b[39mHTTPError \u001b[39mas\u001b[39;00m err:\n\u001b[1;32m     28\u001b[0m     \u001b[39mraise\u001b[39;00m CommError(err\u001b[39m.\u001b[39mresponse, err)\n",
      "File \u001b[0;32m~/anaconda3/envs/fr_tenant/lib/python3.8/site-packages/wandb/apis/public.py:949\u001b[0m, in \u001b[0;36mApi.artifact\u001b[0;34m(self, name, type)\u001b[0m\n\u001b[1;32m    947\u001b[0m     \u001b[39mraise\u001b[39;00m \u001b[39mValueError\u001b[39;00m(\u001b[39m\"\u001b[39m\u001b[39mYou must specify name= to fetch an artifact.\u001b[39m\u001b[39m\"\u001b[39m)\n\u001b[1;32m    948\u001b[0m entity, project, artifact_name \u001b[39m=\u001b[39m \u001b[39mself\u001b[39m\u001b[39m.\u001b[39m_parse_artifact_path(name)\n\u001b[0;32m--> 949\u001b[0m artifact \u001b[39m=\u001b[39m Artifact(\u001b[39mself\u001b[39;49m\u001b[39m.\u001b[39;49mclient, entity, project, artifact_name)\n\u001b[1;32m    950\u001b[0m \u001b[39mif\u001b[39;00m \u001b[39mtype\u001b[39m \u001b[39mis\u001b[39;00m \u001b[39mnot\u001b[39;00m \u001b[39mNone\u001b[39;00m \u001b[39mand\u001b[39;00m artifact\u001b[39m.\u001b[39mtype \u001b[39m!=\u001b[39m \u001b[39mtype\u001b[39m:\n\u001b[1;32m    951\u001b[0m     \u001b[39mraise\u001b[39;00m \u001b[39mValueError\u001b[39;00m(\n\u001b[1;32m    952\u001b[0m         \u001b[39mf\u001b[39m\u001b[39m\"\u001b[39m\u001b[39mtype \u001b[39m\u001b[39m{\u001b[39;00m\u001b[39mtype\u001b[39m\u001b[39m}\u001b[39;00m\u001b[39m specified but this artifact is of type \u001b[39m\u001b[39m{\u001b[39;00martifact\u001b[39m.\u001b[39mtype\u001b[39m}\u001b[39;00m\u001b[39m\"\u001b[39m\n\u001b[1;32m    953\u001b[0m     )\n",
      "File \u001b[0;32m~/anaconda3/envs/fr_tenant/lib/python3.8/site-packages/wandb/apis/public.py:4343\u001b[0m, in \u001b[0;36mArtifact.__init__\u001b[0;34m(self, client, entity, project, name, attrs)\u001b[0m\n\u001b[1;32m   4341\u001b[0m \u001b[39mself\u001b[39m\u001b[39m.\u001b[39m_attrs \u001b[39m=\u001b[39m attrs\n\u001b[1;32m   4342\u001b[0m \u001b[39mif\u001b[39;00m \u001b[39mself\u001b[39m\u001b[39m.\u001b[39m_attrs \u001b[39mis\u001b[39;00m \u001b[39mNone\u001b[39;00m:\n\u001b[0;32m-> 4343\u001b[0m     \u001b[39mself\u001b[39;49m\u001b[39m.\u001b[39;49m_load()\n\u001b[1;32m   4344\u001b[0m \u001b[39mself\u001b[39m\u001b[39m.\u001b[39m_metadata \u001b[39m=\u001b[39m json\u001b[39m.\u001b[39mloads(\u001b[39mself\u001b[39m\u001b[39m.\u001b[39m_attrs\u001b[39m.\u001b[39mget(\u001b[39m\"\u001b[39m\u001b[39mmetadata\u001b[39m\u001b[39m\"\u001b[39m) \u001b[39mor\u001b[39;00m \u001b[39m\"\u001b[39m\u001b[39m{}\u001b[39;00m\u001b[39m\"\u001b[39m)\n\u001b[1;32m   4345\u001b[0m \u001b[39mself\u001b[39m\u001b[39m.\u001b[39m_description \u001b[39m=\u001b[39m \u001b[39mself\u001b[39m\u001b[39m.\u001b[39m_attrs\u001b[39m.\u001b[39mget(\u001b[39m\"\u001b[39m\u001b[39mdescription\u001b[39m\u001b[39m\"\u001b[39m, \u001b[39mNone\u001b[39;00m)\n",
      "File \u001b[0;32m~/anaconda3/envs/fr_tenant/lib/python3.8/site-packages/wandb/apis/public.py:5072\u001b[0m, in \u001b[0;36mArtifact._load\u001b[0;34m(self)\u001b[0m\n\u001b[1;32m   5064\u001b[0m         \u001b[39mraise\u001b[39;00m \u001b[39mValueError\u001b[39;00m(\n\u001b[1;32m   5065\u001b[0m             \u001b[39m'\u001b[39m\u001b[39mAttempted to fetch artifact without alias (e.g. \u001b[39m\u001b[39m\"\u001b[39m\u001b[39m<artifact_name>:v3\u001b[39m\u001b[39m\"\u001b[39m\u001b[39m or \u001b[39m\u001b[39m\"\u001b[39m\u001b[39m<artifact_name>:latest\u001b[39m\u001b[39m\"\u001b[39m\u001b[39m)\u001b[39m\u001b[39m'\u001b[39m\n\u001b[1;32m   5066\u001b[0m         )\n\u001b[1;32m   5067\u001b[0m \u001b[39mif\u001b[39;00m (\n\u001b[1;32m   5068\u001b[0m     response \u001b[39mis\u001b[39;00m \u001b[39mNone\u001b[39;00m\n\u001b[1;32m   5069\u001b[0m     \u001b[39mor\u001b[39;00m response\u001b[39m.\u001b[39mget(\u001b[39m\"\u001b[39m\u001b[39mproject\u001b[39m\u001b[39m\"\u001b[39m) \u001b[39mis\u001b[39;00m \u001b[39mNone\u001b[39;00m\n\u001b[1;32m   5070\u001b[0m     \u001b[39mor\u001b[39;00m response[\u001b[39m\"\u001b[39m\u001b[39mproject\u001b[39m\u001b[39m\"\u001b[39m]\u001b[39m.\u001b[39mget(\u001b[39m\"\u001b[39m\u001b[39martifact\u001b[39m\u001b[39m\"\u001b[39m) \u001b[39mis\u001b[39;00m \u001b[39mNone\u001b[39;00m\n\u001b[1;32m   5071\u001b[0m ):\n\u001b[0;32m-> 5072\u001b[0m     \u001b[39mraise\u001b[39;00m \u001b[39mValueError\u001b[39;00m(\n\u001b[1;32m   5073\u001b[0m         \u001b[39m'\u001b[39m\u001b[39mProject \u001b[39m\u001b[39m%s\u001b[39;00m\u001b[39m/\u001b[39m\u001b[39m%s\u001b[39;00m\u001b[39m does not contain artifact: \u001b[39m\u001b[39m\"\u001b[39m\u001b[39m%s\u001b[39;00m\u001b[39m\"\u001b[39m\u001b[39m'\u001b[39m\n\u001b[1;32m   5074\u001b[0m         \u001b[39m%\u001b[39m (\u001b[39mself\u001b[39m\u001b[39m.\u001b[39mentity, \u001b[39mself\u001b[39m\u001b[39m.\u001b[39mproject, \u001b[39mself\u001b[39m\u001b[39m.\u001b[39m_artifact_name)\n\u001b[1;32m   5075\u001b[0m     )\n\u001b[1;32m   5076\u001b[0m \u001b[39mself\u001b[39m\u001b[39m.\u001b[39m_attrs \u001b[39m=\u001b[39m response[\u001b[39m\"\u001b[39m\u001b[39mproject\u001b[39m\u001b[39m\"\u001b[39m][\u001b[39m\"\u001b[39m\u001b[39martifact\u001b[39m\u001b[39m\"\u001b[39m]\n\u001b[1;32m   5077\u001b[0m \u001b[39mreturn\u001b[39;00m \u001b[39mself\u001b[39m\u001b[39m.\u001b[39m_attrs\n",
      "\u001b[0;31mCommError\u001b[0m: Project himasha/model-registry does not contain artifact: \"mnist-registry:production\""
     ]
    }
   ],
   "source": [
    "# init wandb client\n",
    "run = wandb.init(job_type=\"CI/CD\")\n",
    "path = 'himasha/model-registry/'\n",
    "model_name = 'mnist-registry'\n",
    "# setup this after completing full wandb experiment\n",
    "version = 'production'\n",
    "\n",
    "artifact = run.use_artifact(f'{path}{model_name}:{version}', \n",
    "                            type='model')"
   ]
  },
  {
   "cell_type": "code",
   "execution_count": 4,
   "metadata": {},
   "outputs": [],
   "source": [
    "def get_metrics(run):\n",
    "    return {k:v for k,v in run.summary.items() }"
   ]
  },
  {
   "cell_type": "code",
   "execution_count": null,
   "metadata": {},
   "outputs": [],
   "source": [
    "run = artifact.logged_by()\n",
    "\n",
    "# get metrices tagged with the run\n",
    "get_metrics(run)"
   ]
  },
  {
   "attachments": {},
   "cell_type": "markdown",
   "metadata": {},
   "source": [
    "## Getting metrics for a run ID\n",
    "This is useful if you want to get metrics for a particular experiment ID."
   ]
  },
  {
   "cell_type": "code",
   "execution_count": 5,
   "metadata": {},
   "outputs": [
    {
     "data": {
      "text/plain": [
       "{'_timestamp': 1674415573.079085,\n",
       " 'train/loss': 0.02103451080620289,\n",
       " 'validation/loss': 0.04950812458992005,\n",
       " 'validation/accuracy': 98.58999633789062,\n",
       " '_step': 250000,\n",
       " 'epoch': 4,\n",
       " '_wandb': {'runtime': 25},\n",
       " '_runtime': 27.579512119293213}"
      ]
     },
     "execution_count": 5,
     "metadata": {},
     "output_type": "execute_result"
    }
   ],
   "source": [
    "run_path = 'himasha/mnist-experiment/2acwxb8n'\n",
    "api = wandb.Api()\n",
    "run = api.run(run_path)\n",
    "\n",
    "get_metrics(run)"
   ]
  },
  {
   "attachments": {},
   "cell_type": "markdown",
   "metadata": {},
   "source": [
    "## Getting metrics for a run with a tag\n",
    "\n",
    "It's better to use the Mongo API instead of downloading and iterating through each run if possible.\n",
    "The use case for this is if you wanted to compare a particular run with another run that you have tagged, such as \"baseline\".\n",
    "\n"
   ]
  },
  {
   "cell_type": "code",
   "execution_count": null,
   "metadata": {},
   "outputs": [],
   "source": [
    "api = wandb.Api()\n",
    "tags= ['candidate']\n",
    "\n",
    "baseline_runs=api.runs('av-team/mlops-course-001', \n",
    "                       {\"tags\": {\"$in\": tags}}) # this is the Mongo Client\n",
    "\n",
    "\n",
    "for run in baseline_runs:\n",
    "    print(run.name)                 "
   ]
  },
  {
   "attachments": {},
   "cell_type": "markdown",
   "metadata": {},
   "source": [
    "## Promote a model to the registry\n",
    "This is also might be something you could do as part of a CI/CD process."
   ]
  },
  {
   "cell_type": "code",
   "execution_count": 7,
   "metadata": {},
   "outputs": [],
   "source": [
    "#define model registry path\n",
    "path = 'himasha/model-registry/mnist-registry'\n",
    "\n",
    "run_path = 'himasha/mnist-experiment/2acwxb8n' # this is the run id\n",
    "api = wandb.Api()\n",
    "run = api.run(run_path)"
   ]
  },
  {
   "cell_type": "code",
   "execution_count": 19,
   "metadata": {},
   "outputs": [
    {
     "data": {
      "text/plain": [
       "'2acwxb8n'"
      ]
     },
     "execution_count": 19,
     "metadata": {},
     "output_type": "execute_result"
    }
   ],
   "source": [
    "run.id"
   ]
  },
  {
   "cell_type": "code",
   "execution_count": 6,
   "metadata": {},
   "outputs": [],
   "source": [
    "# get the model from the artifacts registry and promote to the model registry\n",
    "art = [a for a in run.logged_artifacts() if a.type == 'model']\n",
    "\n",
    "# below code part related to get the model artifact tagged with run and link to a existing model registry\n",
    "if art:\n",
    "    assert len(art) == 1, 'More then 1 artifact of type model!'\n",
    "    art[0].link(path, aliases=['new-model-demo'])"
   ]
  },
  {
   "cell_type": "code",
   "execution_count": 8,
   "metadata": {},
   "outputs": [
    {
     "name": "stdout",
     "output_type": "stream",
     "text": [
      "Model version: v0 with tags: ['latest', 'production-candidate']\n"
     ]
    },
    {
     "data": {
      "text/plain": [
       "'https://wandb.ai/himasha/registry/model?selectionPath=himasha%2Fmodel-registry%2Fmnist-registry&version=v0'"
      ]
     },
     "execution_count": 8,
     "metadata": {},
     "output_type": "execute_result"
    }
   ],
   "source": [
    "# check models inthe model registry\n",
    "versions = api.artifact_versions('model', path)\n",
    "\n",
    "for v in versions:\n",
    "    print(f'Model version: {v.version} with tags: {v.aliases}')\n",
    "\n",
    "latest_model = versions[0]\n",
    "\n",
    "# generate the model url to quick look\n",
    "from urllib.parse import urlencode\n",
    "query = urlencode({'selectionPath': path, 'version': latest_model.version})\n",
    "registry_url = f'https://wandb.ai/{latest_model.entity}/registry/model?{query}'\n",
    "registry_url"
   ]
  },
  {
   "attachments": {},
   "cell_type": "markdown",
   "metadata": {},
   "source": [
    "## Run Comparison\n",
    "This notebook documents how to use the wandb python client to create a report. These docs describe how to create and edit a report. Make sure you click on the Python SDK tab on any"
   ]
  },
  {
   "cell_type": "code",
   "execution_count": 24,
   "metadata": {},
   "outputs": [
    {
     "name": "stderr",
     "output_type": "stream",
     "text": [
      "\u001b[34m\u001b[1mwandb\u001b[0m: Thanks for trying out the Report API!\n",
      "\u001b[34m\u001b[1mwandb\u001b[0m: For a tutorial, check out https://colab.research.google.com/drive/1CzyJx1nuOS4pdkXa2XPaRQyZdmFmLmXV\n",
      "\u001b[34m\u001b[1mwandb\u001b[0m: \n",
      "\u001b[34m\u001b[1mwandb\u001b[0m: Try out tab completion to see what's available.\n",
      "\u001b[34m\u001b[1mwandb\u001b[0m:   ∟ everything:    `wr.<tab>`\n",
      "\u001b[34m\u001b[1mwandb\u001b[0m:       ∟ panels:    `wr.panels.<tab>`\n",
      "\u001b[34m\u001b[1mwandb\u001b[0m:       ∟ blocks:    `wr.blocks.<tab>`\n",
      "\u001b[34m\u001b[1mwandb\u001b[0m:       ∟ helpers:   `wr.helpers.<tab>`\n",
      "\u001b[34m\u001b[1mwandb\u001b[0m:       ∟ templates: `wr.templates.<tab>`\n",
      "\u001b[34m\u001b[1mwandb\u001b[0m:       \n",
      "\u001b[34m\u001b[1mwandb\u001b[0m: For bugs/feature requests, please create an issue on github: https://github.com/wandb/wandb/issues\n"
     ]
    }
   ],
   "source": [
    "import wandb\n",
    "import wandb.apis.reports as wr\n",
    "\n",
    "PROJECT = 'mnist-experiment'\n",
    "ENTITY = 'himasha'\n",
    "\n",
    "report = wr.Report(\n",
    "    entity=ENTITY,\n",
    "    project=PROJECT,\n",
    "    title='Compare Runs',\n",
    "    description=\"A demo of comparing runs programatically\"\n",
    ")  "
   ]
  },
  {
   "cell_type": "code",
   "execution_count": 30,
   "metadata": {},
   "outputs": [
    {
     "data": {
      "text/plain": [
       "'royal-totem-4'"
      ]
     },
     "execution_count": 30,
     "metadata": {},
     "output_type": "execute_result"
    }
   ],
   "source": [
    "run.name"
   ]
  },
  {
   "cell_type": "code",
   "execution_count": 31,
   "metadata": {},
   "outputs": [
    {
     "ename": "CommError",
     "evalue": "Permission denied to access himasha/wandb-cicd-client/94jwwzjw",
     "output_type": "error",
     "traceback": [
      "\u001b[0;31m---------------------------------------------------------------------------\u001b[0m",
      "\u001b[0;31mHTTPError\u001b[0m                                 Traceback (most recent call last)",
      "File \u001b[0;32m~/anaconda3/envs/fr_tenant/lib/python3.8/site-packages/wandb/sdk/lib/retry.py:128\u001b[0m, in \u001b[0;36mRetry.__call__\u001b[0;34m(self, *args, **kwargs)\u001b[0m\n\u001b[1;32m    127\u001b[0m \u001b[39mtry\u001b[39;00m:\n\u001b[0;32m--> 128\u001b[0m     result \u001b[39m=\u001b[39m \u001b[39mself\u001b[39;49m\u001b[39m.\u001b[39;49m_call_fn(\u001b[39m*\u001b[39;49margs, \u001b[39m*\u001b[39;49m\u001b[39m*\u001b[39;49mkwargs)\n\u001b[1;32m    129\u001b[0m     \u001b[39m# Only print resolved attempts once every minute\u001b[39;00m\n",
      "File \u001b[0;32m~/anaconda3/envs/fr_tenant/lib/python3.8/site-packages/wandb/apis/public.py:240\u001b[0m, in \u001b[0;36mRetryingClient.execute\u001b[0;34m(self, *args, **kwargs)\u001b[0m\n\u001b[1;32m    239\u001b[0m \u001b[39mtry\u001b[39;00m:\n\u001b[0;32m--> 240\u001b[0m     \u001b[39mreturn\u001b[39;00m \u001b[39mself\u001b[39;49m\u001b[39m.\u001b[39;49m_client\u001b[39m.\u001b[39;49mexecute(\u001b[39m*\u001b[39;49margs, \u001b[39m*\u001b[39;49m\u001b[39m*\u001b[39;49mkwargs)\n\u001b[1;32m    241\u001b[0m \u001b[39mexcept\u001b[39;00m requests\u001b[39m.\u001b[39mexceptions\u001b[39m.\u001b[39mReadTimeout:\n",
      "File \u001b[0;32m~/anaconda3/envs/fr_tenant/lib/python3.8/site-packages/wandb/vendor/gql-0.2.0/wandb_gql/client.py:52\u001b[0m, in \u001b[0;36mClient.execute\u001b[0;34m(self, document, *args, **kwargs)\u001b[0m\n\u001b[1;32m     50\u001b[0m     \u001b[39mself\u001b[39m\u001b[39m.\u001b[39mvalidate(document)\n\u001b[0;32m---> 52\u001b[0m result \u001b[39m=\u001b[39m \u001b[39mself\u001b[39;49m\u001b[39m.\u001b[39;49m_get_result(document, \u001b[39m*\u001b[39;49margs, \u001b[39m*\u001b[39;49m\u001b[39m*\u001b[39;49mkwargs)\n\u001b[1;32m     53\u001b[0m \u001b[39mif\u001b[39;00m result\u001b[39m.\u001b[39merrors:\n",
      "File \u001b[0;32m~/anaconda3/envs/fr_tenant/lib/python3.8/site-packages/wandb/vendor/gql-0.2.0/wandb_gql/client.py:60\u001b[0m, in \u001b[0;36mClient._get_result\u001b[0;34m(self, document, *args, **kwargs)\u001b[0m\n\u001b[1;32m     59\u001b[0m \u001b[39mif\u001b[39;00m \u001b[39mnot\u001b[39;00m \u001b[39mself\u001b[39m\u001b[39m.\u001b[39mretries:\n\u001b[0;32m---> 60\u001b[0m     \u001b[39mreturn\u001b[39;00m \u001b[39mself\u001b[39;49m\u001b[39m.\u001b[39;49mtransport\u001b[39m.\u001b[39;49mexecute(document, \u001b[39m*\u001b[39;49margs, \u001b[39m*\u001b[39;49m\u001b[39m*\u001b[39;49mkwargs)\n\u001b[1;32m     62\u001b[0m last_exception \u001b[39m=\u001b[39m \u001b[39mNone\u001b[39;00m\n",
      "File \u001b[0;32m~/anaconda3/envs/fr_tenant/lib/python3.8/site-packages/wandb/vendor/gql-0.2.0/wandb_gql/transport/requests.py:39\u001b[0m, in \u001b[0;36mRequestsHTTPTransport.execute\u001b[0;34m(self, document, variable_values, timeout)\u001b[0m\n\u001b[1;32m     38\u001b[0m request \u001b[39m=\u001b[39m requests\u001b[39m.\u001b[39mpost(\u001b[39mself\u001b[39m\u001b[39m.\u001b[39murl, \u001b[39m*\u001b[39m\u001b[39m*\u001b[39mpost_args)\n\u001b[0;32m---> 39\u001b[0m request\u001b[39m.\u001b[39;49mraise_for_status()\n\u001b[1;32m     41\u001b[0m result \u001b[39m=\u001b[39m request\u001b[39m.\u001b[39mjson()\n",
      "File \u001b[0;32m~/anaconda3/envs/fr_tenant/lib/python3.8/site-packages/requests/models.py:1021\u001b[0m, in \u001b[0;36mResponse.raise_for_status\u001b[0;34m(self)\u001b[0m\n\u001b[1;32m   1020\u001b[0m \u001b[39mif\u001b[39;00m http_error_msg:\n\u001b[0;32m-> 1021\u001b[0m     \u001b[39mraise\u001b[39;00m HTTPError(http_error_msg, response\u001b[39m=\u001b[39m\u001b[39mself\u001b[39m)\n",
      "\u001b[0;31mHTTPError\u001b[0m: 404 Client Error: Not Found for url: https://api.wandb.ai/graphql",
      "\nDuring handling of the above exception, another exception occurred:\n",
      "\u001b[0;31mCommError\u001b[0m                                 Traceback (most recent call last)",
      "\u001b[1;32m/home/sharaaf/ADL/MLOps-Piepline/wandb-cicd/client/wandb_api.ipynb Cell 18\u001b[0m in \u001b[0;36m<cell line: 11>\u001b[0;34m()\u001b[0m\n\u001b[1;32m      <a href='vscode-notebook-cell:/home/sharaaf/ADL/MLOps-Piepline/wandb-cicd/client/wandb_api.ipynb#X24sZmlsZQ%3D%3D?line=0'>1</a>\u001b[0m pg \u001b[39m=\u001b[39m wr\u001b[39m.\u001b[39mPanelGrid(\n\u001b[1;32m      <a href='vscode-notebook-cell:/home/sharaaf/ADL/MLOps-Piepline/wandb-cicd/client/wandb_api.ipynb#X24sZmlsZQ%3D%3D?line=1'>2</a>\u001b[0m     runsets\u001b[39m=\u001b[39m[\n\u001b[1;32m      <a href='vscode-notebook-cell:/home/sharaaf/ADL/MLOps-Piepline/wandb-cicd/client/wandb_api.ipynb#X24sZmlsZQ%3D%3D?line=2'>3</a>\u001b[0m         wr\u001b[39m.\u001b[39mRunset(ENTITY, PROJECT, \u001b[39m\"\u001b[39m\u001b[39mRun Comparison\u001b[39m\u001b[39m\"\u001b[39m)\u001b[39m.\u001b[39mset_filters_with_python_expr(\u001b[39m\"\u001b[39m\u001b[39mName in [\u001b[39m\u001b[39m'\u001b[39m\u001b[39msuper-aardvark-3\u001b[39m\u001b[39m'\u001b[39m\u001b[39m, \u001b[39m\u001b[39m'\u001b[39m\u001b[39mroyal-totem-4\u001b[39m\u001b[39m'\u001b[39m\u001b[39m]\u001b[39m\u001b[39m\"\u001b[39m)\n\u001b[0;32m   (...)\u001b[0m\n\u001b[1;32m      <a href='vscode-notebook-cell:/home/sharaaf/ADL/MLOps-Piepline/wandb-cicd/client/wandb_api.ipynb#X24sZmlsZQ%3D%3D?line=6'>7</a>\u001b[0m     ]\n\u001b[1;32m      <a href='vscode-notebook-cell:/home/sharaaf/ADL/MLOps-Piepline/wandb-cicd/client/wandb_api.ipynb#X24sZmlsZQ%3D%3D?line=7'>8</a>\u001b[0m )\n\u001b[1;32m     <a href='vscode-notebook-cell:/home/sharaaf/ADL/MLOps-Piepline/wandb-cicd/client/wandb_api.ipynb#X24sZmlsZQ%3D%3D?line=9'>10</a>\u001b[0m report\u001b[39m.\u001b[39mblocks \u001b[39m=\u001b[39m report\u001b[39m.\u001b[39mblocks[:\u001b[39m1\u001b[39m] \u001b[39m+\u001b[39m [pg] \u001b[39m+\u001b[39m report\u001b[39m.\u001b[39mblocks[\u001b[39m1\u001b[39m:]\n\u001b[0;32m---> <a href='vscode-notebook-cell:/home/sharaaf/ADL/MLOps-Piepline/wandb-cicd/client/wandb_api.ipynb#X24sZmlsZQ%3D%3D?line=10'>11</a>\u001b[0m report\u001b[39m.\u001b[39;49msave()\n",
      "File \u001b[0;32m~/anaconda3/envs/fr_tenant/lib/python3.8/site-packages/wandb/apis/reports/report.py:199\u001b[0m, in \u001b[0;36mReport.save\u001b[0;34m(self, draft, clone)\u001b[0m\n\u001b[1;32m    196\u001b[0m     rs\u001b[39m.\u001b[39mentity \u001b[39m=\u001b[39m coalesce(rs\u001b[39m.\u001b[39mentity, PublicApi()\u001b[39m.\u001b[39mdefault_entity)\n\u001b[1;32m    197\u001b[0m     rs\u001b[39m.\u001b[39mproject \u001b[39m=\u001b[39m coalesce(rs\u001b[39m.\u001b[39mproject, \u001b[39mself\u001b[39m\u001b[39m.\u001b[39mproject)\n\u001b[0;32m--> 199\u001b[0m r \u001b[39m=\u001b[39m PublicApi()\u001b[39m.\u001b[39;49mclient\u001b[39m.\u001b[39;49mexecute(\n\u001b[1;32m    200\u001b[0m     UPSERT_VIEW,\n\u001b[1;32m    201\u001b[0m     variable_values\u001b[39m=\u001b[39;49m{\n\u001b[1;32m    202\u001b[0m         \u001b[39m\"\u001b[39;49m\u001b[39mid\u001b[39;49m\u001b[39m\"\u001b[39;49m: \u001b[39mNone\u001b[39;49;00m \u001b[39mif\u001b[39;49;00m clone \u001b[39mor\u001b[39;49;00m \u001b[39mnot\u001b[39;49;00m \u001b[39mself\u001b[39;49m\u001b[39m.\u001b[39;49mid \u001b[39melse\u001b[39;49;00m \u001b[39mself\u001b[39;49m\u001b[39m.\u001b[39;49mid,\n\u001b[1;32m    203\u001b[0m         \u001b[39m\"\u001b[39;49m\u001b[39mname\u001b[39;49m\u001b[39m\"\u001b[39;49m: generate_name() \u001b[39mif\u001b[39;49;00m clone \u001b[39mor\u001b[39;49;00m \u001b[39mnot\u001b[39;49;00m \u001b[39mself\u001b[39;49m\u001b[39m.\u001b[39;49mname \u001b[39melse\u001b[39;49;00m \u001b[39mself\u001b[39;49m\u001b[39m.\u001b[39;49mname,\n\u001b[1;32m    204\u001b[0m         \u001b[39m\"\u001b[39;49m\u001b[39mentityName\u001b[39;49m\u001b[39m\"\u001b[39;49m: \u001b[39mself\u001b[39;49m\u001b[39m.\u001b[39;49mentity,\n\u001b[1;32m    205\u001b[0m         \u001b[39m\"\u001b[39;49m\u001b[39mprojectName\u001b[39;49m\u001b[39m\"\u001b[39;49m: \u001b[39mself\u001b[39;49m\u001b[39m.\u001b[39;49mproject,\n\u001b[1;32m    206\u001b[0m         \u001b[39m\"\u001b[39;49m\u001b[39mdescription\u001b[39;49m\u001b[39m\"\u001b[39;49m: \u001b[39mself\u001b[39;49m\u001b[39m.\u001b[39;49mdescription,\n\u001b[1;32m    207\u001b[0m         \u001b[39m\"\u001b[39;49m\u001b[39mdisplayName\u001b[39;49m\u001b[39m\"\u001b[39;49m: \u001b[39mself\u001b[39;49m\u001b[39m.\u001b[39;49mtitle,\n\u001b[1;32m    208\u001b[0m         \u001b[39m\"\u001b[39;49m\u001b[39mtype\u001b[39;49m\u001b[39m\"\u001b[39;49m: \u001b[39m\"\u001b[39;49m\u001b[39mruns/draft\u001b[39;49m\u001b[39m\"\u001b[39;49m \u001b[39mif\u001b[39;49;00m draft \u001b[39melse\u001b[39;49;00m \u001b[39m\"\u001b[39;49m\u001b[39mruns\u001b[39;49m\u001b[39m\"\u001b[39;49m,\n\u001b[1;32m    209\u001b[0m         \u001b[39m\"\u001b[39;49m\u001b[39mspec\u001b[39;49m\u001b[39m\"\u001b[39;49m: json\u001b[39m.\u001b[39;49mdumps(\u001b[39mself\u001b[39;49m\u001b[39m.\u001b[39;49mspec),\n\u001b[1;32m    210\u001b[0m     },\n\u001b[1;32m    211\u001b[0m )\n\u001b[1;32m    213\u001b[0m viewspec \u001b[39m=\u001b[39m r[\u001b[39m\"\u001b[39m\u001b[39mupsertView\u001b[39m\u001b[39m\"\u001b[39m][\u001b[39m\"\u001b[39m\u001b[39mview\u001b[39m\u001b[39m\"\u001b[39m]\n\u001b[1;32m    214\u001b[0m viewspec[\u001b[39m\"\u001b[39m\u001b[39mspec\u001b[39m\u001b[39m\"\u001b[39m] \u001b[39m=\u001b[39m json\u001b[39m.\u001b[39mloads(viewspec[\u001b[39m\"\u001b[39m\u001b[39mspec\u001b[39m\u001b[39m\"\u001b[39m])\n",
      "File \u001b[0;32m~/anaconda3/envs/fr_tenant/lib/python3.8/site-packages/wandb/sdk/lib/retry.py:209\u001b[0m, in \u001b[0;36mretriable.<locals>.decorator.<locals>.wrapped_fn\u001b[0;34m(*args, **kargs)\u001b[0m\n\u001b[1;32m    207\u001b[0m \u001b[39m@functools\u001b[39m\u001b[39m.\u001b[39mwraps(fn)\n\u001b[1;32m    208\u001b[0m \u001b[39mdef\u001b[39;00m \u001b[39mwrapped_fn\u001b[39m(\u001b[39m*\u001b[39margs: Any, \u001b[39m*\u001b[39m\u001b[39m*\u001b[39mkargs: Any) \u001b[39m-\u001b[39m\u001b[39m>\u001b[39m Any:\n\u001b[0;32m--> 209\u001b[0m     \u001b[39mreturn\u001b[39;00m retrier(\u001b[39m*\u001b[39;49margs, \u001b[39m*\u001b[39;49m\u001b[39m*\u001b[39;49mkargs)\n",
      "File \u001b[0;32m~/anaconda3/envs/fr_tenant/lib/python3.8/site-packages/wandb/sdk/lib/retry.py:144\u001b[0m, in \u001b[0;36mRetry.__call__\u001b[0;34m(self, *args, **kwargs)\u001b[0m\n\u001b[1;32m    141\u001b[0m     \u001b[39mreturn\u001b[39;00m result\n\u001b[1;32m    142\u001b[0m \u001b[39mexcept\u001b[39;00m \u001b[39mself\u001b[39m\u001b[39m.\u001b[39m_retryable_exceptions \u001b[39mas\u001b[39;00m e:\n\u001b[1;32m    143\u001b[0m     \u001b[39m# if the secondary check fails, re-raise\u001b[39;00m\n\u001b[0;32m--> 144\u001b[0m     retry_timedelta_triggered \u001b[39m=\u001b[39m check_retry_fn(e)\n\u001b[1;32m    145\u001b[0m     \u001b[39mif\u001b[39;00m \u001b[39mnot\u001b[39;00m retry_timedelta_triggered:\n\u001b[1;32m    146\u001b[0m         \u001b[39mraise\u001b[39;00m\n",
      "File \u001b[0;32m~/anaconda3/envs/fr_tenant/lib/python3.8/site-packages/wandb/util.py:1010\u001b[0m, in \u001b[0;36mno_retry_auth\u001b[0;34m(e)\u001b[0m\n\u001b[1;32m   1008\u001b[0m     \u001b[39mraise\u001b[39;00m CommError(\u001b[39m\"\u001b[39m\u001b[39mInvalid or missing api_key. Run `wandb login`\u001b[39m\u001b[39m\"\u001b[39m)\n\u001b[1;32m   1009\u001b[0m \u001b[39melif\u001b[39;00m wandb\u001b[39m.\u001b[39mrun:\n\u001b[0;32m-> 1010\u001b[0m     \u001b[39mraise\u001b[39;00m CommError(\u001b[39mf\u001b[39m\u001b[39m\"\u001b[39m\u001b[39mPermission denied to access \u001b[39m\u001b[39m{\u001b[39;00mwandb\u001b[39m.\u001b[39mrun\u001b[39m.\u001b[39mpath\u001b[39m}\u001b[39;00m\u001b[39m\"\u001b[39m)\n\u001b[1;32m   1011\u001b[0m \u001b[39melse\u001b[39;00m:\n\u001b[1;32m   1012\u001b[0m     \u001b[39mraise\u001b[39;00m CommError(\u001b[39m\"\u001b[39m\u001b[39mPermission denied, ask the project owner to grant you access\u001b[39m\u001b[39m\"\u001b[39m)\n",
      "\u001b[0;31mCommError\u001b[0m: Permission denied to access himasha/wandb-cicd-client/94jwwzjw"
     ]
    }
   ],
   "source": [
    "pg = wr.PanelGrid(\n",
    "    runsets=[\n",
    "        wr.Runset(ENTITY, PROJECT, \"Run Comparison\").set_filters_with_python_expr(\"Name in ['super-aardvark-3', 'royal-totem-4']\")\n",
    "    ],\n",
    "    panels=[\n",
    "        wr.RunComparer(diff_only='split', layout={'w': 24, 'h': 15}),\n",
    "    ]\n",
    ")\n",
    "\n",
    "report.blocks = report.blocks[:1] + [pg] + report.blocks[1:]\n",
    "report.save()"
   ]
  },
  {
   "cell_type": "code",
   "execution_count": 29,
   "metadata": {},
   "outputs": [
    {
     "data": {
      "text/plain": [
       "'https://wandb.ai/himasha/mnist-experiment/reports/Compare-Runs--Vmlldzo0MjE2MDI1'"
      ]
     },
     "execution_count": 29,
     "metadata": {},
     "output_type": "execute_result"
    }
   ],
   "source": [
    "report.url"
   ]
  },
  {
   "cell_type": "code",
   "execution_count": 18,
   "metadata": {},
   "outputs": [
    {
     "data": {
      "text/plain": [
       "'123456xcle'"
      ]
     },
     "execution_count": 18,
     "metadata": {},
     "output_type": "execute_result"
    }
   ],
   "source": [
    "import re\n",
    "\n",
    "command = '/wandb 123456xcle'\n",
    "re.search('/wandb[\\s+](\\S+)',command).group(1)"
   ]
  },
  {
   "cell_type": "code",
   "execution_count": 22,
   "metadata": {},
   "outputs": [
    {
     "data": {
      "text/plain": [
       "['zqthrusy', '2acwxb8n']"
      ]
     },
     "execution_count": 22,
     "metadata": {},
     "output_type": "execute_result"
    }
   ],
   "source": [
    " [ str('zqthrusy'), str('2acwxb8n') ]"
   ]
  },
  {
   "cell_type": "code",
   "execution_count": 23,
   "metadata": {},
   "outputs": [
    {
     "data": {
      "text/plain": [
       "'2acwxb8n'"
      ]
     },
     "execution_count": 23,
     "metadata": {},
     "output_type": "execute_result"
    }
   ],
   "source": [
    "run.id"
   ]
  },
  {
   "cell_type": "code",
   "execution_count": null,
   "metadata": {},
   "outputs": [],
   "source": []
  }
 ],
 "metadata": {
  "kernelspec": {
   "display_name": "fr_tenant",
   "language": "python",
   "name": "python3"
  },
  "language_info": {
   "codemirror_mode": {
    "name": "ipython",
    "version": 3
   },
   "file_extension": ".py",
   "mimetype": "text/x-python",
   "name": "python",
   "nbconvert_exporter": "python",
   "pygments_lexer": "ipython3",
   "version": "3.8.13"
  },
  "orig_nbformat": 4,
  "vscode": {
   "interpreter": {
    "hash": "db83642f18eb79f15dafa6211d6596dd13e18c3dcd3fc33f9a1b799c5217feeb"
   }
  }
 },
 "nbformat": 4,
 "nbformat_minor": 2
}
