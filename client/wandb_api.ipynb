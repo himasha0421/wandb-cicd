{
 "cells": [
  {
   "cell_type": "code",
   "execution_count": 1,
   "metadata": {},
   "outputs": [
    {
     "data": {
      "text/plain": [
       "True"
      ]
     },
     "execution_count": 1,
     "metadata": {},
     "output_type": "execute_result"
    }
   ],
   "source": [
    "from dotenv import load_dotenv\n",
    "import os\n",
    "import wandb\n",
    "\n",
    "# load the github/ wandb api keys\n",
    "load_dotenv()"
   ]
  },
  {
   "attachments": {},
   "cell_type": "markdown",
   "metadata": {},
   "source": [
    "## Getting metrics tied to the current production model\n",
    "We can get the production model from the registry, then get the metrics via lineage from the associated run."
   ]
  },
  {
   "cell_type": "code",
   "execution_count": 2,
   "metadata": {},
   "outputs": [
    {
     "name": "stderr",
     "output_type": "stream",
     "text": [
      "Failed to detect the name of this notebook, you can set it manually with the WANDB_NOTEBOOK_NAME environment variable to enable code saving.\n",
      "\u001b[34m\u001b[1mwandb\u001b[0m: Currently logged in as: \u001b[33mhimasha\u001b[0m. Use \u001b[1m`wandb login --relogin`\u001b[0m to force relogin\n"
     ]
    },
    {
     "data": {
      "application/vnd.jupyter.widget-view+json": {
       "model_id": "29bc4b13f0f74e37bb1e23ece42cb834",
       "version_major": 2,
       "version_minor": 0
      },
      "text/plain": [
       "VBox(children=(Label(value='Waiting for wandb.init()...\\r'), FloatProgress(value=0.01666867793331524, max=1.0)…"
      ]
     },
     "metadata": {},
     "output_type": "display_data"
    },
    {
     "data": {
      "text/html": [
       "wandb version 0.15.0 is available!  To upgrade, please run:\n",
       " $ pip install wandb --upgrade"
      ],
      "text/plain": [
       "<IPython.core.display.HTML object>"
      ]
     },
     "metadata": {},
     "output_type": "display_data"
    },
    {
     "data": {
      "text/html": [
       "Tracking run with wandb version 0.13.9"
      ],
      "text/plain": [
       "<IPython.core.display.HTML object>"
      ]
     },
     "metadata": {},
     "output_type": "display_data"
    },
    {
     "data": {
      "text/html": [
       "Run data is saved locally in <code>/home/sharaaf/ADL/MLOps-Piepline/wandb-cicd/client/wandb/run-20230429_131846-94jwwzjw</code>"
      ],
      "text/plain": [
       "<IPython.core.display.HTML object>"
      ]
     },
     "metadata": {},
     "output_type": "display_data"
    },
    {
     "data": {
      "text/html": [
       "Syncing run <strong><a href=\"https://wandb.ai/himasha/wandb-cicd-client/runs/94jwwzjw\" target=\"_blank\">amber-tree-1</a></strong> to <a href=\"https://wandb.ai/himasha/wandb-cicd-client\" target=\"_blank\">Weights & Biases</a> (<a href=\"https://wandb.me/run\" target=\"_blank\">docs</a>)<br/>"
      ],
      "text/plain": [
       "<IPython.core.display.HTML object>"
      ]
     },
     "metadata": {},
     "output_type": "display_data"
    },
    {
     "data": {
      "text/html": [
       " View project at <a href=\"https://wandb.ai/himasha/wandb-cicd-client\" target=\"_blank\">https://wandb.ai/himasha/wandb-cicd-client</a>"
      ],
      "text/plain": [
       "<IPython.core.display.HTML object>"
      ]
     },
     "metadata": {},
     "output_type": "display_data"
    },
    {
     "data": {
      "text/html": [
       " View run at <a href=\"https://wandb.ai/himasha/wandb-cicd-client/runs/94jwwzjw\" target=\"_blank\">https://wandb.ai/himasha/wandb-cicd-client/runs/94jwwzjw</a>"
      ],
      "text/plain": [
       "<IPython.core.display.HTML object>"
      ]
     },
     "metadata": {},
     "output_type": "display_data"
    },
    {
     "ename": "CommError",
     "evalue": "Project himasha/model-registry does not contain artifact: \"mnist-registry:production\"",
     "output_type": "error",
     "traceback": [
      "\u001b[0;31m---------------------------------------------------------------------------\u001b[0m",
      "\u001b[0;31mValueError\u001b[0m                                Traceback (most recent call last)",
      "File \u001b[0;32m~/anaconda3/envs/fr_tenant/lib/python3.8/site-packages/wandb/apis/normalize.py:26\u001b[0m, in \u001b[0;36mnormalize_exceptions.<locals>.wrapper\u001b[0;34m(*args, **kwargs)\u001b[0m\n\u001b[1;32m     25\u001b[0m \u001b[39mtry\u001b[39;00m:\n\u001b[0;32m---> 26\u001b[0m     \u001b[39mreturn\u001b[39;00m func(\u001b[39m*\u001b[39;49margs, \u001b[39m*\u001b[39;49m\u001b[39m*\u001b[39;49mkwargs)\n\u001b[1;32m     27\u001b[0m \u001b[39mexcept\u001b[39;00m requests\u001b[39m.\u001b[39mHTTPError \u001b[39mas\u001b[39;00m err:\n",
      "File \u001b[0;32m~/anaconda3/envs/fr_tenant/lib/python3.8/site-packages/wandb/apis/public.py:949\u001b[0m, in \u001b[0;36mApi.artifact\u001b[0;34m(self, name, type)\u001b[0m\n\u001b[1;32m    948\u001b[0m entity, project, artifact_name \u001b[39m=\u001b[39m \u001b[39mself\u001b[39m\u001b[39m.\u001b[39m_parse_artifact_path(name)\n\u001b[0;32m--> 949\u001b[0m artifact \u001b[39m=\u001b[39m Artifact(\u001b[39mself\u001b[39;49m\u001b[39m.\u001b[39;49mclient, entity, project, artifact_name)\n\u001b[1;32m    950\u001b[0m \u001b[39mif\u001b[39;00m \u001b[39mtype\u001b[39m \u001b[39mis\u001b[39;00m \u001b[39mnot\u001b[39;00m \u001b[39mNone\u001b[39;00m \u001b[39mand\u001b[39;00m artifact\u001b[39m.\u001b[39mtype \u001b[39m!=\u001b[39m \u001b[39mtype\u001b[39m:\n",
      "File \u001b[0;32m~/anaconda3/envs/fr_tenant/lib/python3.8/site-packages/wandb/apis/public.py:4343\u001b[0m, in \u001b[0;36mArtifact.__init__\u001b[0;34m(self, client, entity, project, name, attrs)\u001b[0m\n\u001b[1;32m   4342\u001b[0m \u001b[39mif\u001b[39;00m \u001b[39mself\u001b[39m\u001b[39m.\u001b[39m_attrs \u001b[39mis\u001b[39;00m \u001b[39mNone\u001b[39;00m:\n\u001b[0;32m-> 4343\u001b[0m     \u001b[39mself\u001b[39;49m\u001b[39m.\u001b[39;49m_load()\n\u001b[1;32m   4344\u001b[0m \u001b[39mself\u001b[39m\u001b[39m.\u001b[39m_metadata \u001b[39m=\u001b[39m json\u001b[39m.\u001b[39mloads(\u001b[39mself\u001b[39m\u001b[39m.\u001b[39m_attrs\u001b[39m.\u001b[39mget(\u001b[39m\"\u001b[39m\u001b[39mmetadata\u001b[39m\u001b[39m\"\u001b[39m) \u001b[39mor\u001b[39;00m \u001b[39m\"\u001b[39m\u001b[39m{}\u001b[39;00m\u001b[39m\"\u001b[39m)\n",
      "File \u001b[0;32m~/anaconda3/envs/fr_tenant/lib/python3.8/site-packages/wandb/apis/public.py:5072\u001b[0m, in \u001b[0;36mArtifact._load\u001b[0;34m(self)\u001b[0m\n\u001b[1;32m   5067\u001b[0m \u001b[39mif\u001b[39;00m (\n\u001b[1;32m   5068\u001b[0m     response \u001b[39mis\u001b[39;00m \u001b[39mNone\u001b[39;00m\n\u001b[1;32m   5069\u001b[0m     \u001b[39mor\u001b[39;00m response\u001b[39m.\u001b[39mget(\u001b[39m\"\u001b[39m\u001b[39mproject\u001b[39m\u001b[39m\"\u001b[39m) \u001b[39mis\u001b[39;00m \u001b[39mNone\u001b[39;00m\n\u001b[1;32m   5070\u001b[0m     \u001b[39mor\u001b[39;00m response[\u001b[39m\"\u001b[39m\u001b[39mproject\u001b[39m\u001b[39m\"\u001b[39m]\u001b[39m.\u001b[39mget(\u001b[39m\"\u001b[39m\u001b[39martifact\u001b[39m\u001b[39m\"\u001b[39m) \u001b[39mis\u001b[39;00m \u001b[39mNone\u001b[39;00m\n\u001b[1;32m   5071\u001b[0m ):\n\u001b[0;32m-> 5072\u001b[0m     \u001b[39mraise\u001b[39;00m \u001b[39mValueError\u001b[39;00m(\n\u001b[1;32m   5073\u001b[0m         \u001b[39m'\u001b[39m\u001b[39mProject \u001b[39m\u001b[39m%s\u001b[39;00m\u001b[39m/\u001b[39m\u001b[39m%s\u001b[39;00m\u001b[39m does not contain artifact: \u001b[39m\u001b[39m\"\u001b[39m\u001b[39m%s\u001b[39;00m\u001b[39m\"\u001b[39m\u001b[39m'\u001b[39m\n\u001b[1;32m   5074\u001b[0m         \u001b[39m%\u001b[39m (\u001b[39mself\u001b[39m\u001b[39m.\u001b[39mentity, \u001b[39mself\u001b[39m\u001b[39m.\u001b[39mproject, \u001b[39mself\u001b[39m\u001b[39m.\u001b[39m_artifact_name)\n\u001b[1;32m   5075\u001b[0m     )\n\u001b[1;32m   5076\u001b[0m \u001b[39mself\u001b[39m\u001b[39m.\u001b[39m_attrs \u001b[39m=\u001b[39m response[\u001b[39m\"\u001b[39m\u001b[39mproject\u001b[39m\u001b[39m\"\u001b[39m][\u001b[39m\"\u001b[39m\u001b[39martifact\u001b[39m\u001b[39m\"\u001b[39m]\n",
      "\u001b[0;31mValueError\u001b[0m: Project himasha/model-registry does not contain artifact: \"mnist-registry:production\"",
      "\nDuring handling of the above exception, another exception occurred:\n",
      "\u001b[0;31mCommError\u001b[0m                                 Traceback (most recent call last)",
      "\u001b[1;32m/home/sharaaf/ADL/MLOps-Piepline/wandb-cicd/client/wandb_api.ipynb Cell 3\u001b[0m in \u001b[0;36m<cell line: 8>\u001b[0;34m()\u001b[0m\n\u001b[1;32m      <a href='vscode-notebook-cell:/home/sharaaf/ADL/MLOps-Piepline/wandb-cicd/client/wandb_api.ipynb#W1sZmlsZQ%3D%3D?line=4'>5</a>\u001b[0m \u001b[39m# setup this after completing full wandb experiment\u001b[39;00m\n\u001b[1;32m      <a href='vscode-notebook-cell:/home/sharaaf/ADL/MLOps-Piepline/wandb-cicd/client/wandb_api.ipynb#W1sZmlsZQ%3D%3D?line=5'>6</a>\u001b[0m version \u001b[39m=\u001b[39m \u001b[39m'\u001b[39m\u001b[39mproduction\u001b[39m\u001b[39m'\u001b[39m\n\u001b[0;32m----> <a href='vscode-notebook-cell:/home/sharaaf/ADL/MLOps-Piepline/wandb-cicd/client/wandb_api.ipynb#W1sZmlsZQ%3D%3D?line=7'>8</a>\u001b[0m artifact \u001b[39m=\u001b[39m run\u001b[39m.\u001b[39;49muse_artifact(\u001b[39mf\u001b[39;49m\u001b[39m'\u001b[39;49m\u001b[39m{\u001b[39;49;00mpath\u001b[39m}\u001b[39;49;00m\u001b[39m{\u001b[39;49;00mmodel_name\u001b[39m}\u001b[39;49;00m\u001b[39m:\u001b[39;49m\u001b[39m{\u001b[39;49;00mversion\u001b[39m}\u001b[39;49;00m\u001b[39m'\u001b[39;49m, \n\u001b[1;32m      <a href='vscode-notebook-cell:/home/sharaaf/ADL/MLOps-Piepline/wandb-cicd/client/wandb_api.ipynb#W1sZmlsZQ%3D%3D?line=8'>9</a>\u001b[0m                             \u001b[39mtype\u001b[39;49m\u001b[39m=\u001b[39;49m\u001b[39m'\u001b[39;49m\u001b[39mmodel\u001b[39;49m\u001b[39m'\u001b[39;49m)\n",
      "File \u001b[0;32m~/anaconda3/envs/fr_tenant/lib/python3.8/site-packages/wandb/sdk/wandb_run.py:333\u001b[0m, in \u001b[0;36m_run_decorator._attach.<locals>.wrapper\u001b[0;34m(self, *args, **kwargs)\u001b[0m\n\u001b[1;32m    331\u001b[0m         \u001b[39mraise\u001b[39;00m e\n\u001b[1;32m    332\u001b[0m     \u001b[39mcls\u001b[39m\u001b[39m.\u001b[39m_is_attaching \u001b[39m=\u001b[39m \u001b[39m\"\u001b[39m\u001b[39m\"\u001b[39m\n\u001b[0;32m--> 333\u001b[0m \u001b[39mreturn\u001b[39;00m func(\u001b[39mself\u001b[39;49m, \u001b[39m*\u001b[39;49margs, \u001b[39m*\u001b[39;49m\u001b[39m*\u001b[39;49mkwargs)\n",
      "File \u001b[0;32m~/anaconda3/envs/fr_tenant/lib/python3.8/site-packages/wandb/sdk/wandb_run.py:2617\u001b[0m, in \u001b[0;36mRun.use_artifact\u001b[0;34m(self, artifact_or_name, type, aliases, use_as)\u001b[0m\n\u001b[1;32m   2615\u001b[0m     name \u001b[39m=\u001b[39m artifact_or_name\n\u001b[1;32m   2616\u001b[0m public_api \u001b[39m=\u001b[39m \u001b[39mself\u001b[39m\u001b[39m.\u001b[39m_public_api()\n\u001b[0;32m-> 2617\u001b[0m artifact \u001b[39m=\u001b[39m public_api\u001b[39m.\u001b[39;49martifact(\u001b[39mtype\u001b[39;49m\u001b[39m=\u001b[39;49m\u001b[39mtype\u001b[39;49m, name\u001b[39m=\u001b[39;49mname)\n\u001b[1;32m   2618\u001b[0m \u001b[39mif\u001b[39;00m \u001b[39mtype\u001b[39m \u001b[39mis\u001b[39;00m \u001b[39mnot\u001b[39;00m \u001b[39mNone\u001b[39;00m \u001b[39mand\u001b[39;00m \u001b[39mtype\u001b[39m \u001b[39m!=\u001b[39m artifact\u001b[39m.\u001b[39mtype:\n\u001b[1;32m   2619\u001b[0m     \u001b[39mraise\u001b[39;00m \u001b[39mValueError\u001b[39;00m(\n\u001b[1;32m   2620\u001b[0m         \u001b[39m\"\u001b[39m\u001b[39mSupplied type \u001b[39m\u001b[39m{}\u001b[39;00m\u001b[39m does not match type \u001b[39m\u001b[39m{}\u001b[39;00m\u001b[39m of artifact \u001b[39m\u001b[39m{}\u001b[39;00m\u001b[39m\"\u001b[39m\u001b[39m.\u001b[39mformat(\n\u001b[1;32m   2621\u001b[0m             \u001b[39mtype\u001b[39m, artifact\u001b[39m.\u001b[39mtype, artifact\u001b[39m.\u001b[39mname\n\u001b[1;32m   2622\u001b[0m         )\n\u001b[1;32m   2623\u001b[0m     )\n",
      "File \u001b[0;32m~/anaconda3/envs/fr_tenant/lib/python3.8/site-packages/wandb/apis/normalize.py:64\u001b[0m, in \u001b[0;36mnormalize_exceptions.<locals>.wrapper\u001b[0;34m(*args, **kwargs)\u001b[0m\n\u001b[1;32m     62\u001b[0m     \u001b[39mraise\u001b[39;00m\n\u001b[1;32m     63\u001b[0m \u001b[39melse\u001b[39;00m:\n\u001b[0;32m---> 64\u001b[0m     \u001b[39mraise\u001b[39;00m CommError(message, err)\u001b[39m.\u001b[39mwith_traceback(sys\u001b[39m.\u001b[39mexc_info()[\u001b[39m2\u001b[39m])\n",
      "File \u001b[0;32m~/anaconda3/envs/fr_tenant/lib/python3.8/site-packages/wandb/apis/normalize.py:26\u001b[0m, in \u001b[0;36mnormalize_exceptions.<locals>.wrapper\u001b[0;34m(*args, **kwargs)\u001b[0m\n\u001b[1;32m     24\u001b[0m message \u001b[39m=\u001b[39m \u001b[39m\"\u001b[39m\u001b[39mWhoa, you found a bug.\u001b[39m\u001b[39m\"\u001b[39m\n\u001b[1;32m     25\u001b[0m \u001b[39mtry\u001b[39;00m:\n\u001b[0;32m---> 26\u001b[0m     \u001b[39mreturn\u001b[39;00m func(\u001b[39m*\u001b[39;49margs, \u001b[39m*\u001b[39;49m\u001b[39m*\u001b[39;49mkwargs)\n\u001b[1;32m     27\u001b[0m \u001b[39mexcept\u001b[39;00m requests\u001b[39m.\u001b[39mHTTPError \u001b[39mas\u001b[39;00m err:\n\u001b[1;32m     28\u001b[0m     \u001b[39mraise\u001b[39;00m CommError(err\u001b[39m.\u001b[39mresponse, err)\n",
      "File \u001b[0;32m~/anaconda3/envs/fr_tenant/lib/python3.8/site-packages/wandb/apis/public.py:949\u001b[0m, in \u001b[0;36mApi.artifact\u001b[0;34m(self, name, type)\u001b[0m\n\u001b[1;32m    947\u001b[0m     \u001b[39mraise\u001b[39;00m \u001b[39mValueError\u001b[39;00m(\u001b[39m\"\u001b[39m\u001b[39mYou must specify name= to fetch an artifact.\u001b[39m\u001b[39m\"\u001b[39m)\n\u001b[1;32m    948\u001b[0m entity, project, artifact_name \u001b[39m=\u001b[39m \u001b[39mself\u001b[39m\u001b[39m.\u001b[39m_parse_artifact_path(name)\n\u001b[0;32m--> 949\u001b[0m artifact \u001b[39m=\u001b[39m Artifact(\u001b[39mself\u001b[39;49m\u001b[39m.\u001b[39;49mclient, entity, project, artifact_name)\n\u001b[1;32m    950\u001b[0m \u001b[39mif\u001b[39;00m \u001b[39mtype\u001b[39m \u001b[39mis\u001b[39;00m \u001b[39mnot\u001b[39;00m \u001b[39mNone\u001b[39;00m \u001b[39mand\u001b[39;00m artifact\u001b[39m.\u001b[39mtype \u001b[39m!=\u001b[39m \u001b[39mtype\u001b[39m:\n\u001b[1;32m    951\u001b[0m     \u001b[39mraise\u001b[39;00m \u001b[39mValueError\u001b[39;00m(\n\u001b[1;32m    952\u001b[0m         \u001b[39mf\u001b[39m\u001b[39m\"\u001b[39m\u001b[39mtype \u001b[39m\u001b[39m{\u001b[39;00m\u001b[39mtype\u001b[39m\u001b[39m}\u001b[39;00m\u001b[39m specified but this artifact is of type \u001b[39m\u001b[39m{\u001b[39;00martifact\u001b[39m.\u001b[39mtype\u001b[39m}\u001b[39;00m\u001b[39m\"\u001b[39m\n\u001b[1;32m    953\u001b[0m     )\n",
      "File \u001b[0;32m~/anaconda3/envs/fr_tenant/lib/python3.8/site-packages/wandb/apis/public.py:4343\u001b[0m, in \u001b[0;36mArtifact.__init__\u001b[0;34m(self, client, entity, project, name, attrs)\u001b[0m\n\u001b[1;32m   4341\u001b[0m \u001b[39mself\u001b[39m\u001b[39m.\u001b[39m_attrs \u001b[39m=\u001b[39m attrs\n\u001b[1;32m   4342\u001b[0m \u001b[39mif\u001b[39;00m \u001b[39mself\u001b[39m\u001b[39m.\u001b[39m_attrs \u001b[39mis\u001b[39;00m \u001b[39mNone\u001b[39;00m:\n\u001b[0;32m-> 4343\u001b[0m     \u001b[39mself\u001b[39;49m\u001b[39m.\u001b[39;49m_load()\n\u001b[1;32m   4344\u001b[0m \u001b[39mself\u001b[39m\u001b[39m.\u001b[39m_metadata \u001b[39m=\u001b[39m json\u001b[39m.\u001b[39mloads(\u001b[39mself\u001b[39m\u001b[39m.\u001b[39m_attrs\u001b[39m.\u001b[39mget(\u001b[39m\"\u001b[39m\u001b[39mmetadata\u001b[39m\u001b[39m\"\u001b[39m) \u001b[39mor\u001b[39;00m \u001b[39m\"\u001b[39m\u001b[39m{}\u001b[39;00m\u001b[39m\"\u001b[39m)\n\u001b[1;32m   4345\u001b[0m \u001b[39mself\u001b[39m\u001b[39m.\u001b[39m_description \u001b[39m=\u001b[39m \u001b[39mself\u001b[39m\u001b[39m.\u001b[39m_attrs\u001b[39m.\u001b[39mget(\u001b[39m\"\u001b[39m\u001b[39mdescription\u001b[39m\u001b[39m\"\u001b[39m, \u001b[39mNone\u001b[39;00m)\n",
      "File \u001b[0;32m~/anaconda3/envs/fr_tenant/lib/python3.8/site-packages/wandb/apis/public.py:5072\u001b[0m, in \u001b[0;36mArtifact._load\u001b[0;34m(self)\u001b[0m\n\u001b[1;32m   5064\u001b[0m         \u001b[39mraise\u001b[39;00m \u001b[39mValueError\u001b[39;00m(\n\u001b[1;32m   5065\u001b[0m             \u001b[39m'\u001b[39m\u001b[39mAttempted to fetch artifact without alias (e.g. \u001b[39m\u001b[39m\"\u001b[39m\u001b[39m<artifact_name>:v3\u001b[39m\u001b[39m\"\u001b[39m\u001b[39m or \u001b[39m\u001b[39m\"\u001b[39m\u001b[39m<artifact_name>:latest\u001b[39m\u001b[39m\"\u001b[39m\u001b[39m)\u001b[39m\u001b[39m'\u001b[39m\n\u001b[1;32m   5066\u001b[0m         )\n\u001b[1;32m   5067\u001b[0m \u001b[39mif\u001b[39;00m (\n\u001b[1;32m   5068\u001b[0m     response \u001b[39mis\u001b[39;00m \u001b[39mNone\u001b[39;00m\n\u001b[1;32m   5069\u001b[0m     \u001b[39mor\u001b[39;00m response\u001b[39m.\u001b[39mget(\u001b[39m\"\u001b[39m\u001b[39mproject\u001b[39m\u001b[39m\"\u001b[39m) \u001b[39mis\u001b[39;00m \u001b[39mNone\u001b[39;00m\n\u001b[1;32m   5070\u001b[0m     \u001b[39mor\u001b[39;00m response[\u001b[39m\"\u001b[39m\u001b[39mproject\u001b[39m\u001b[39m\"\u001b[39m]\u001b[39m.\u001b[39mget(\u001b[39m\"\u001b[39m\u001b[39martifact\u001b[39m\u001b[39m\"\u001b[39m) \u001b[39mis\u001b[39;00m \u001b[39mNone\u001b[39;00m\n\u001b[1;32m   5071\u001b[0m ):\n\u001b[0;32m-> 5072\u001b[0m     \u001b[39mraise\u001b[39;00m \u001b[39mValueError\u001b[39;00m(\n\u001b[1;32m   5073\u001b[0m         \u001b[39m'\u001b[39m\u001b[39mProject \u001b[39m\u001b[39m%s\u001b[39;00m\u001b[39m/\u001b[39m\u001b[39m%s\u001b[39;00m\u001b[39m does not contain artifact: \u001b[39m\u001b[39m\"\u001b[39m\u001b[39m%s\u001b[39;00m\u001b[39m\"\u001b[39m\u001b[39m'\u001b[39m\n\u001b[1;32m   5074\u001b[0m         \u001b[39m%\u001b[39m (\u001b[39mself\u001b[39m\u001b[39m.\u001b[39mentity, \u001b[39mself\u001b[39m\u001b[39m.\u001b[39mproject, \u001b[39mself\u001b[39m\u001b[39m.\u001b[39m_artifact_name)\n\u001b[1;32m   5075\u001b[0m     )\n\u001b[1;32m   5076\u001b[0m \u001b[39mself\u001b[39m\u001b[39m.\u001b[39m_attrs \u001b[39m=\u001b[39m response[\u001b[39m\"\u001b[39m\u001b[39mproject\u001b[39m\u001b[39m\"\u001b[39m][\u001b[39m\"\u001b[39m\u001b[39martifact\u001b[39m\u001b[39m\"\u001b[39m]\n\u001b[1;32m   5077\u001b[0m \u001b[39mreturn\u001b[39;00m \u001b[39mself\u001b[39m\u001b[39m.\u001b[39m_attrs\n",
      "\u001b[0;31mCommError\u001b[0m: Project himasha/model-registry does not contain artifact: \"mnist-registry:production\""
     ]
    }
   ],
   "source": [
    "# init wandb client\n",
    "run = wandb.init(job_type=\"CI/CD\")\n",
    "path = 'himasha/model-registry/'\n",
    "model_name = 'mnist-registry'\n",
    "# setup this after completing full wandb experiment\n",
    "version = 'production'\n",
    "\n",
    "artifact = run.use_artifact(f'{path}{model_name}:{version}', \n",
    "                            type='model')"
   ]
  },
  {
   "cell_type": "code",
   "execution_count": 3,
   "metadata": {},
   "outputs": [],
   "source": [
    "def get_metrics(run):\n",
    "    return {k:v for k,v in run.summary.items() }"
   ]
  },
  {
   "cell_type": "code",
   "execution_count": null,
   "metadata": {},
   "outputs": [],
   "source": [
    "run = artifact.logged_by()\n",
    "\n",
    "# get metrices tagged with the run\n",
    "get_metrics(run)"
   ]
  },
  {
   "attachments": {},
   "cell_type": "markdown",
   "metadata": {},
   "source": [
    "## Getting metrics for a run ID\n",
    "This is useful if you want to get metrics for a particular experiment ID."
   ]
  },
  {
   "cell_type": "code",
   "execution_count": 4,
   "metadata": {},
   "outputs": [
    {
     "data": {
      "text/plain": [
       "{'validation/loss': 0.04950812458992005,\n",
       " 'validation/accuracy': 98.58999633789062,\n",
       " '_step': 250000,\n",
       " 'epoch': 4,\n",
       " '_wandb': {'runtime': 25},\n",
       " '_runtime': 27.579512119293213,\n",
       " '_timestamp': 1674415573.079085,\n",
       " 'train/loss': 0.02103451080620289}"
      ]
     },
     "execution_count": 4,
     "metadata": {},
     "output_type": "execute_result"
    }
   ],
   "source": [
    "run_path = 'himasha/mnist-experiment/2acwxb8n'\n",
    "api = wandb.Api()\n",
    "run = api.run(run_path)\n",
    "\n",
    "get_metrics(run)"
   ]
  },
  {
   "attachments": {},
   "cell_type": "markdown",
   "metadata": {},
   "source": [
    "## Getting metrics for a run with a tag\n",
    "\n",
    "It's better to use the Mongo API instead of downloading and iterating through each run if possible.\n",
    "The use case for this is if you wanted to compare a particular run with another run that you have tagged, such as \"baseline\".\n",
    "\n"
   ]
  },
  {
   "cell_type": "code",
   "execution_count": null,
   "metadata": {},
   "outputs": [],
   "source": [
    "api = wandb.Api()\n",
    "tags= ['candidate']\n",
    "\n",
    "baseline_runs=api.runs('av-team/mlops-course-001', \n",
    "                       {\"tags\": {\"$in\": tags}}) # this is the Mongo Client\n",
    "\n",
    "\n",
    "for run in baseline_runs:\n",
    "    print(run.name)                 "
   ]
  },
  {
   "attachments": {},
   "cell_type": "markdown",
   "metadata": {},
   "source": [
    "## Promote a model to the registry\n",
    "This is also might be something you could do as part of a CI/CD process."
   ]
  },
  {
   "cell_type": "code",
   "execution_count": 5,
   "metadata": {},
   "outputs": [],
   "source": [
    "#define model registry path\n",
    "path = 'himasha/model-registry/mnist-registry'\n",
    "\n",
    "run_path = 'himasha/mnist-experiment/2acwxb8n' # this is the run id\n",
    "api = wandb.Api()\n",
    "run = api.run(run_path)"
   ]
  },
  {
   "cell_type": "code",
   "execution_count": 19,
   "metadata": {},
   "outputs": [
    {
     "data": {
      "text/plain": [
       "'2acwxb8n'"
      ]
     },
     "execution_count": 19,
     "metadata": {},
     "output_type": "execute_result"
    }
   ],
   "source": [
    "run.id"
   ]
  },
  {
   "cell_type": "code",
   "execution_count": 6,
   "metadata": {},
   "outputs": [],
   "source": [
    "# get the model from the artifacts registry and promote to the model registry\n",
    "art = [a for a in run.logged_artifacts() if a.type == 'model']\n",
    "\n",
    "# below code part related to get the model artifact tagged with run and link to a existing model registry\n",
    "if art:\n",
    "    assert len(art) == 1, 'More then 1 artifact of type model!'\n",
    "    art[0].link(path, aliases=['new-model-demo'])"
   ]
  },
  {
   "cell_type": "code",
   "execution_count": null,
   "metadata": {},
   "outputs": [],
   "source": [
    "# check models inthe model registry\n",
    "versions = api.artifact_versions('model', path)\n",
    "\n",
    "for v in versions:\n",
    "    print(f'Model version: {v.version} with tags: {v.aliases}')\n",
    "\n",
    "latest_model = versions[0]\n",
    "\n",
    "# generate the model url to quick look\n",
    "from urllib.parse import urlencode\n",
    "query = urlencode({'selectionPath': path, 'version': latest_model.version})\n",
    "registry_url = f'https://wandb.ai/{latest_model.entity}/registry/model?{query}'\n",
    "registry_url"
   ]
  },
  {
   "attachments": {},
   "cell_type": "markdown",
   "metadata": {},
   "source": [
    "## Run Comparison\n",
    "This notebook documents how to use the wandb python client to create a report. These docs describe how to create and edit a report. Make sure you click on the Python SDK tab on any"
   ]
  },
  {
   "cell_type": "code",
   "execution_count": null,
   "metadata": {},
   "outputs": [],
   "source": [
    "import wandb\n",
    "import wandb.apis.reports as wr\n",
    "\n",
    "PROJECT = 'my-report-project'\n",
    "ENTITY = 'hamelsmu'\n",
    "\n",
    "report = wr.Report(\n",
    "    entity=ENTITY,\n",
    "    project=PROJECT,\n",
    "    title='Compare Runs',\n",
    "    description=\"A demo of comparing runs programatically\"\n",
    ")  "
   ]
  },
  {
   "cell_type": "code",
   "execution_count": null,
   "metadata": {},
   "outputs": [],
   "source": [
    "pg = wr.PanelGrid(\n",
    "    runsets=[\n",
    "        wr.Runset(ENTITY, PROJECT, \"Run Comparison\").set_filters_with_python_expr(\"Name in ['bountiful-badger-2', 'dastardly-duck-4']\")\n",
    "    ],\n",
    "    panels=[\n",
    "        wr.RunComparer(diff_only='split', layout={'w': 24, 'h': 15}),\n",
    "    ]\n",
    ")\n",
    "\n",
    "report.blocks = report.blocks[:1] + [pg] + report.blocks[1:]\n",
    "report.save()"
   ]
  },
  {
   "cell_type": "code",
   "execution_count": null,
   "metadata": {},
   "outputs": [],
   "source": [
    "report.url"
   ]
  },
  {
   "cell_type": "code",
   "execution_count": 18,
   "metadata": {},
   "outputs": [
    {
     "data": {
      "text/plain": [
       "'123456xcle'"
      ]
     },
     "execution_count": 18,
     "metadata": {},
     "output_type": "execute_result"
    }
   ],
   "source": [
    "import re\n",
    "\n",
    "command = '/wandb 123456xcle'\n",
    "re.search('/wandb[\\s+](\\S+)',command).group(1)"
   ]
  },
  {
   "cell_type": "code",
   "execution_count": 22,
   "metadata": {},
   "outputs": [
    {
     "data": {
      "text/plain": [
       "['zqthrusy', '2acwxb8n']"
      ]
     },
     "execution_count": 22,
     "metadata": {},
     "output_type": "execute_result"
    }
   ],
   "source": [
    " [ str('zqthrusy'), str('2acwxb8n') ]"
   ]
  },
  {
   "cell_type": "code",
   "execution_count": 23,
   "metadata": {},
   "outputs": [
    {
     "data": {
      "text/plain": [
       "'2acwxb8n'"
      ]
     },
     "execution_count": 23,
     "metadata": {},
     "output_type": "execute_result"
    }
   ],
   "source": [
    "run.id"
   ]
  },
  {
   "cell_type": "code",
   "execution_count": null,
   "metadata": {},
   "outputs": [],
   "source": []
  }
 ],
 "metadata": {
  "kernelspec": {
   "display_name": "fr_tenant",
   "language": "python",
   "name": "python3"
  },
  "language_info": {
   "codemirror_mode": {
    "name": "ipython",
    "version": 3
   },
   "file_extension": ".py",
   "mimetype": "text/x-python",
   "name": "python",
   "nbconvert_exporter": "python",
   "pygments_lexer": "ipython3",
   "version": "3.8.13"
  },
  "orig_nbformat": 4,
  "vscode": {
   "interpreter": {
    "hash": "db83642f18eb79f15dafa6211d6596dd13e18c3dcd3fc33f9a1b799c5217feeb"
   }
  }
 },
 "nbformat": 4,
 "nbformat_minor": 2
}
